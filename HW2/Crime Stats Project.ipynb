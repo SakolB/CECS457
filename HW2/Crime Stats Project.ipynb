{
 "cells": [
  {
   "cell_type": "markdown",
   "id": "55e6b918-afac-43e8-b338-43f8ac64014f",
   "metadata": {},
   "source": [
    "##  Deep Neural Networks Project"
   ]
  },
  {
   "cell_type": "markdown",
   "id": "1a8e066d-2849-4a6e-9c71-bb98d605ae07",
   "metadata": {},
   "source": [
    "In this project, you will be working with a real-world data set from the Las Vegas Metropolitan Police Department. The dataset  contains information about the reported incidents, including the time and location of the crime, type of incident, and number of persons involved. "
   ]
  },
  {
   "cell_type": "markdown",
   "id": "9e87fac7-352a-4c39-b087-76254b5e2743",
   "metadata": {},
   "source": [
    "The dataset is downloaded from the public docket at: \n",
    "https://opendata-lvmpd.hub.arcgis.com\n",
    "\n",
    "let's read the csv file and transform the data:"
   ]
  },
  {
   "cell_type": "code",
   "execution_count": 1,
   "id": "637211a4-582f-426b-a127-c3f284463f35",
   "metadata": {},
   "outputs": [],
   "source": [
    "import torch\n",
    "import pandas as pd\n",
    "from torch.utils.data import DataLoader, Dataset, TensorDataset, random_split\n",
    "import matplotlib.pyplot as plt\n",
    "import seaborn as sns\n",
    "import numpy as np"
   ]
  },
  {
   "cell_type": "code",
   "execution_count": 2,
   "id": "bcf40b02-80b6-4abc-a662-f7ed50a65181",
   "metadata": {},
   "outputs": [],
   "source": [
    "orig_df = pd.read_csv('Data/LVMPD-Stats.csv', parse_dates=['ReportedOn'])"
   ]
  },
  {
   "cell_type": "code",
   "execution_count": 3,
   "id": "e1ca1d15-3955-4971-a3c4-c1a73b62edda",
   "metadata": {},
   "outputs": [],
   "source": [
    "df = pd.read_csv('Data/LVMPD-Stats.csv', parse_dates=['ReportedOn'],\n",
    "                 usecols = ['X', 'Y', 'ReportedOn',\n",
    "                            'Area_Command','NIBRSOffenseCode',\n",
    "                            'VictimCount' ] )\n",
    "\n",
    "df['DayOfWeek'] = df['ReportedOn'].dt.day_name()\n",
    "df['Time' ]     = df['ReportedOn'].dt.hour\n",
    "df.drop(columns = 'ReportedOn', inplace=True)"
   ]
  },
  {
   "cell_type": "code",
   "execution_count": 4,
   "id": "3ddc413d-ba3f-4204-bc18-7fdd4de8d221",
   "metadata": {},
   "outputs": [],
   "source": [
    "df['X'] = df['X'] \n",
    "df['Y'] = df['Y'] \n",
    "df['Time'] = pd.factorize(df['Time'])[0]\n",
    "df['DayOfWeek'] = pd.factorize(df['DayOfWeek'])[0]\n",
    "df.Area_Command = pd.factorize(df['Area_Command'])[0]\n",
    "df.VictimCount = pd.factorize(df['VictimCount'])[0]\n",
    "df.NIBRSOffenseCode = pd.factorize(df['NIBRSOffenseCode'])[0]\n",
    "df.dropna(inplace=True)"
   ]
  },
  {
   "cell_type": "code",
   "execution_count": 5,
   "id": "a9c6162f-9686-4195-818d-950a6368c686",
   "metadata": {},
   "outputs": [],
   "source": [
    "df= df[['X', 'Y', 'Area_Command', 'NIBRSOffenseCode',\n",
    "       'DayOfWeek', 'Time','VictimCount']]"
   ]
  },
  {
   "cell_type": "code",
   "execution_count": 6,
   "id": "a90bc78a-6d1b-4fe4-a1b0-8333aec1c851",
   "metadata": {
    "scrolled": true
   },
   "outputs": [
    {
     "data": {
      "text/plain": [
       "(275, 7)"
      ]
     },
     "execution_count": 6,
     "metadata": {},
     "output_type": "execute_result"
    }
   ],
   "source": [
    "df.values.shape"
   ]
  },
  {
   "cell_type": "markdown",
   "id": "651605b1-8d2c-4d3e-a09e-9aef6e550fc6",
   "metadata": {},
   "source": [
    "# Goal\n",
    "The goal is to build a predictive model that is trained on the following data:\n",
    "* latitude and longitude (location)\n",
    "* Hour of the day\n",
    "* Day of the week\n",
    "* Area-of-command code: The police designation of the bureau of the operation.\n",
    "* Classification code for the crime committed\n",
    "  \n",
    "The predicted variable is the number of persons involved in the accident.\n"
   ]
  },
  {
   "cell_type": "markdown",
   "id": "0e54f0b8-83f9-4db9-88f9-f5a595342069",
   "metadata": {},
   "source": [
    "## Task 1\n",
    "* print a few rows of the values in the dataframe ``df`` and explain what each column of data means. \n",
    "* identify the input and target variables\n",
    "* what is the range of values in each column? Do you need to scale, shift or normalize your data? \n"
   ]
  },
  {
   "cell_type": "markdown",
   "id": "6aa10821-cf57-437b-98c9-df8ba4b9c678",
   "metadata": {},
   "source": [
    "## Work for task 1\n",
    "In order to print out the rows of the dataframe values, we can either slice the dataframe directly or we can slice out the dataframe values array "
   ]
  },
  {
   "cell_type": "code",
   "execution_count": 7,
   "id": "555901aa-1758-4a6b-9c2d-2a7f10d0fbe4",
   "metadata": {},
   "outputs": [
    {
     "data": {
      "text/html": [
       "<div>\n",
       "<style scoped>\n",
       "    .dataframe tbody tr th:only-of-type {\n",
       "        vertical-align: middle;\n",
       "    }\n",
       "\n",
       "    .dataframe tbody tr th {\n",
       "        vertical-align: top;\n",
       "    }\n",
       "\n",
       "    .dataframe thead th {\n",
       "        text-align: right;\n",
       "    }\n",
       "</style>\n",
       "<table border=\"1\" class=\"dataframe\">\n",
       "  <thead>\n",
       "    <tr style=\"text-align: right;\">\n",
       "      <th></th>\n",
       "      <th>X</th>\n",
       "      <th>Y</th>\n",
       "      <th>Area_Command</th>\n",
       "      <th>NIBRSOffenseCode</th>\n",
       "      <th>DayOfWeek</th>\n",
       "      <th>Time</th>\n",
       "      <th>VictimCount</th>\n",
       "    </tr>\n",
       "  </thead>\n",
       "  <tbody>\n",
       "    <tr>\n",
       "      <th>0</th>\n",
       "      <td>-115.087518</td>\n",
       "      <td>36.216702</td>\n",
       "      <td>0</td>\n",
       "      <td>0</td>\n",
       "      <td>0</td>\n",
       "      <td>0</td>\n",
       "      <td>0</td>\n",
       "    </tr>\n",
       "    <tr>\n",
       "      <th>1</th>\n",
       "      <td>-115.240172</td>\n",
       "      <td>36.189693</td>\n",
       "      <td>1</td>\n",
       "      <td>1</td>\n",
       "      <td>1</td>\n",
       "      <td>1</td>\n",
       "      <td>0</td>\n",
       "    </tr>\n",
       "    <tr>\n",
       "      <th>2</th>\n",
       "      <td>-115.143088</td>\n",
       "      <td>36.181329</td>\n",
       "      <td>2</td>\n",
       "      <td>1</td>\n",
       "      <td>2</td>\n",
       "      <td>0</td>\n",
       "      <td>1</td>\n",
       "    </tr>\n",
       "    <tr>\n",
       "      <th>3</th>\n",
       "      <td>-115.225014</td>\n",
       "      <td>36.117633</td>\n",
       "      <td>3</td>\n",
       "      <td>1</td>\n",
       "      <td>1</td>\n",
       "      <td>2</td>\n",
       "      <td>2</td>\n",
       "    </tr>\n",
       "    <tr>\n",
       "      <th>4</th>\n",
       "      <td>-115.176708</td>\n",
       "      <td>36.095967</td>\n",
       "      <td>4</td>\n",
       "      <td>1</td>\n",
       "      <td>1</td>\n",
       "      <td>3</td>\n",
       "      <td>0</td>\n",
       "    </tr>\n",
       "  </tbody>\n",
       "</table>\n",
       "</div>"
      ],
      "text/plain": [
       "            X          Y  Area_Command  NIBRSOffenseCode  DayOfWeek  Time  \\\n",
       "0 -115.087518  36.216702             0                 0          0     0   \n",
       "1 -115.240172  36.189693             1                 1          1     1   \n",
       "2 -115.143088  36.181329             2                 1          2     0   \n",
       "3 -115.225014  36.117633             3                 1          1     2   \n",
       "4 -115.176708  36.095967             4                 1          1     3   \n",
       "\n",
       "   VictimCount  \n",
       "0            0  \n",
       "1            0  \n",
       "2            1  \n",
       "3            2  \n",
       "4            0  "
      ]
     },
     "execution_count": 7,
     "metadata": {},
     "output_type": "execute_result"
    }
   ],
   "source": [
    "df[0:5]"
   ]
  },
  {
   "cell_type": "code",
   "execution_count": 8,
   "id": "bbc03506-c7e8-4d90-a2d5-f3aadbf19373",
   "metadata": {},
   "outputs": [
    {
     "data": {
      "text/plain": [
       "array([[-115.087518  ,   36.216702  ,    0.        ,    0.        ,\n",
       "           0.        ,    0.        ,    0.        ],\n",
       "       [-115.2401715 ,   36.189693  ,    1.        ,    1.        ,\n",
       "           1.        ,    1.        ,    0.        ],\n",
       "       [-115.14308839,   36.18132889,    2.        ,    1.        ,\n",
       "           2.        ,    0.        ,    1.        ],\n",
       "       [-115.22501367,   36.1176334 ,    3.        ,    1.        ,\n",
       "           1.        ,    2.        ,    2.        ],\n",
       "       [-115.176708  ,   36.095967  ,    4.        ,    1.        ,\n",
       "           1.        ,    3.        ,    0.        ]])"
      ]
     },
     "execution_count": 8,
     "metadata": {},
     "output_type": "execute_result"
    }
   ],
   "source": [
    "df.values[0:5]"
   ]
  },
  {
   "cell_type": "markdown",
   "id": "19f0ac2e-bf50-49a5-9a23-2631aadce3c0",
   "metadata": {},
   "source": [
    "In each columns, we have the data for a specific crime that was reported to the Las Vegas Metropolitan Police Departments. Those data include the Longitude or X(first column), Latitude or Y(second column), Area of Command which is converted into int instead from starting from zero(third column), NIBRS Offense Code which is also converted into int starting from zero(fourth column), Day of week (fifth column, converted as well), Time which is represented in the hour of the day(sixth column), and lastly the victim count(last column)."
   ]
  },
  {
   "cell_type": "markdown",
   "id": "c073048e-60e9-4da8-9f7a-884f79d01593",
   "metadata": {},
   "source": [
    "The input data that we will be using for this model will be the data from the first to the sixth column. The victim count which is the data in the last column will be our output of the model since it is what we are trying to predict."
   ]
  },
  {
   "cell_type": "markdown",
   "id": "90fb5f83-2101-4626-8e7d-ec2b0c4f22ca",
   "metadata": {},
   "source": [
    "To find the range of values in each column we can use the max and min on each column of the df values"
   ]
  },
  {
   "cell_type": "markdown",
   "id": "e5238529-0ca1-49dc-bbad-40d36db44d3c",
   "metadata": {},
   "source": [
    "The range of value of the longitude column can be found by the below code."
   ]
  },
  {
   "cell_type": "code",
   "execution_count": 9,
   "id": "67154aa7-7079-4c9d-b6e0-e45a6637e4b8",
   "metadata": {},
   "outputs": [
    {
     "data": {
      "text/plain": [
       "(-114.6255705, -116.0)"
      ]
     },
     "execution_count": 9,
     "metadata": {},
     "output_type": "execute_result"
    }
   ],
   "source": [
    "longitude_max = max(df.values[:, 0])\n",
    "longitude_min = min(df.values[:,0])\n",
    "longitude_max, longitude_min"
   ]
  },
  {
   "cell_type": "markdown",
   "id": "73a4512f-f083-4d64-bf93-a5d0099053af",
   "metadata": {},
   "source": [
    "The range of value of latitude column can be found by the below code."
   ]
  },
  {
   "cell_type": "code",
   "execution_count": 10,
   "id": "d6a83884-bd39-4e35-954f-0d4ed5dc3432",
   "metadata": {},
   "outputs": [
    {
     "data": {
      "text/plain": [
       "(37.0000000000001, 35.0684190000001)"
      ]
     },
     "execution_count": 10,
     "metadata": {},
     "output_type": "execute_result"
    }
   ],
   "source": [
    "latitude_max = max(df.values[:, 1])\n",
    "latitude_min = min(df.values[:,1])\n",
    "latitude_max, latitude_min"
   ]
  },
  {
   "cell_type": "markdown",
   "id": "41a610cb-ef0b-4949-9a2d-7396eccaccfe",
   "metadata": {},
   "source": [
    "The range of value of the Area of Command column can be found by the below code."
   ]
  },
  {
   "cell_type": "code",
   "execution_count": 11,
   "id": "697ce9b7-739a-4258-9301-7562d4a37875",
   "metadata": {},
   "outputs": [
    {
     "data": {
      "text/plain": [
       "(11.0, 0.0)"
      ]
     },
     "execution_count": 11,
     "metadata": {},
     "output_type": "execute_result"
    }
   ],
   "source": [
    "AOC_max = max(df.values[:, 2])\n",
    "AOC_min = min(df.values[:,2])\n",
    "AOC_max, AOC_min"
   ]
  },
  {
   "cell_type": "markdown",
   "id": "a9bb85df-37ca-4169-a867-de5f92bc3c9a",
   "metadata": {},
   "source": [
    "The range of value of the NIBRS Offense Code column can be found by the below code."
   ]
  },
  {
   "cell_type": "code",
   "execution_count": 12,
   "id": "03e84669-08cb-4a18-8b36-41c265954465",
   "metadata": {},
   "outputs": [
    {
     "data": {
      "text/plain": [
       "(2.0, 0.0)"
      ]
     },
     "execution_count": 12,
     "metadata": {},
     "output_type": "execute_result"
    }
   ],
   "source": [
    "NOC_max = max(df.values[:, 3])\n",
    "NOC_min = min(df.values[:,3])\n",
    "NOC_max, NOC_min"
   ]
  },
  {
   "cell_type": "markdown",
   "id": "5cc10705-cac2-4dfc-b48d-5f78fdd889e0",
   "metadata": {},
   "source": [
    "The range of value of the Day of the Week column can be found by the below code."
   ]
  },
  {
   "cell_type": "code",
   "execution_count": 13,
   "id": "9e35dbc9-4c4a-4a51-930f-fadac40a54d4",
   "metadata": {},
   "outputs": [
    {
     "data": {
      "text/plain": [
       "(6.0, 0.0)"
      ]
     },
     "execution_count": 13,
     "metadata": {},
     "output_type": "execute_result"
    }
   ],
   "source": [
    "DOW_max = max(df.values[:, 4])\n",
    "DOW_min = min(df.values[:,4])\n",
    "DOW_max, DOW_min"
   ]
  },
  {
   "cell_type": "markdown",
   "id": "2163b0c2-07f0-4ed8-a9e4-aea4bdc1043b",
   "metadata": {},
   "source": [
    "The range of value of the Time column can be found by the below code."
   ]
  },
  {
   "cell_type": "code",
   "execution_count": 14,
   "id": "8768a6bd-1fc1-4fbb-949c-cc2e0b1c7732",
   "metadata": {},
   "outputs": [
    {
     "data": {
      "text/plain": [
       "(23.0, 0.0)"
      ]
     },
     "execution_count": 14,
     "metadata": {},
     "output_type": "execute_result"
    }
   ],
   "source": [
    "Time_max = max(df.values[:, 5])\n",
    "Time_min = min(df.values[:,5])\n",
    "Time_max, Time_min"
   ]
  },
  {
   "cell_type": "markdown",
   "id": "8ecea16d-130a-4502-877a-bbc03afcb519",
   "metadata": {},
   "source": [
    "The range of value of the Number of victim column can be found by the below code."
   ]
  },
  {
   "cell_type": "code",
   "execution_count": 15,
   "id": "105f291b-e07e-4344-9029-7bd316f38841",
   "metadata": {},
   "outputs": [
    {
     "data": {
      "text/plain": [
       "(6.0, 0.0)"
      ]
     },
     "execution_count": 15,
     "metadata": {},
     "output_type": "execute_result"
    }
   ],
   "source": [
    "NoVictim_max = max(df.values[:, 6])\n",
    "NoVictim_min = min(df.values[:,6])\n",
    "NoVictim_max, NoVictim_min"
   ]
  },
  {
   "cell_type": "markdown",
   "id": "a067a2f5-221c-4c12-a22c-40c9d4f5d816",
   "metadata": {},
   "source": [
    "From the range that we obtained from each column, we can see that only the latitude and longitude values may need to be normalized due to the fact that they both are significantly larger number than the number in the other column which might make it more difficult for the model to adjust the weight and bias since the output that we expect are int value from 0 to 6."
   ]
  },
  {
   "cell_type": "markdown",
   "id": "79f7e7bb-fa55-43a1-9998-fb597d0f9084",
   "metadata": {},
   "source": [
    "One way of normalizing the data is using the min-max normalization. The min-max normalization within a range of [a,b] can be done by the following formula."
   ]
  },
  {
   "cell_type": "markdown",
   "id": "81f2c917-4074-4b7e-9bfe-23c88390c800",
   "metadata": {},
   "source": [
    "$x_{\\text{norm}}$ = $a + \\frac{(x-x_{\\text{min})}(b-a)}{{x_{\\text{max}}-x_{\\text{min}}}}$"
   ]
  },
  {
   "cell_type": "markdown",
   "id": "2dddc9c4-033f-4c2a-986c-a28a19c55f70",
   "metadata": {},
   "source": [
    "Let set our range from 0 to 10 for the range of longitude and latitude normalization scale. Using the above formula we can scale our longitude and latitude accordingly."
   ]
  },
  {
   "cell_type": "code",
   "execution_count": 16,
   "id": "b1019816-1c9c-4b81-96e3-37ca3bfccae6",
   "metadata": {},
   "outputs": [],
   "source": [
    "df['X'] = ((df['X']-df['X'].min())*10)/(df['X'].max()-df['X'].min())"
   ]
  },
  {
   "cell_type": "markdown",
   "id": "3963135f-1b45-4ffb-a4bb-73adc85fc92b",
   "metadata": {},
   "source": [
    "To verify the result, we can print out the longitude data, and the min-max value after the normalization."
   ]
  },
  {
   "cell_type": "code",
   "execution_count": 17,
   "id": "37967a37-97f2-46af-898d-a8625d0808d7",
   "metadata": {},
   "outputs": [
    {
     "data": {
      "text/plain": [
       "0      6.638987\n",
       "1      5.528319\n",
       "2      6.234671\n",
       "3      5.638604\n",
       "4      5.990064\n",
       "         ...   \n",
       "270    6.440938\n",
       "271    6.688131\n",
       "272    6.023787\n",
       "273    6.165521\n",
       "274    6.836695\n",
       "Name: X, Length: 275, dtype: float64"
      ]
     },
     "execution_count": 17,
     "metadata": {},
     "output_type": "execute_result"
    }
   ],
   "source": [
    "df['X']"
   ]
  },
  {
   "cell_type": "code",
   "execution_count": 18,
   "id": "2882040b-ebde-4084-a57d-dc5c2ff4c34b",
   "metadata": {},
   "outputs": [
    {
     "data": {
      "text/plain": [
       "[0.0, 10.0]"
      ]
     },
     "execution_count": 18,
     "metadata": {},
     "output_type": "execute_result"
    }
   ],
   "source": [
    "[df['X'].min(), df['X'].max()]"
   ]
  },
  {
   "cell_type": "markdown",
   "id": "409dc90a-22f0-40fd-901f-27ed6bf98bf7",
   "metadata": {},
   "source": [
    "Repeat the same process for the latitude."
   ]
  },
  {
   "cell_type": "code",
   "execution_count": 19,
   "id": "94a0ee83-3dc4-470b-af1a-edc5c6e00c4c",
   "metadata": {},
   "outputs": [],
   "source": [
    "df['Y'] = ((df['Y']-df['Y'].min())*10)/(df['Y'].max()-df['Y'].min())"
   ]
  },
  {
   "cell_type": "code",
   "execution_count": 20,
   "id": "3794f115-6560-4ab6-a99f-ab5baf3cc1cc",
   "metadata": {},
   "outputs": [
    {
     "data": {
      "text/plain": [
       "0      5.944783\n",
       "1      5.804955\n",
       "2      5.761653\n",
       "3      5.431894\n",
       "4      5.319725\n",
       "         ...   \n",
       "270    5.442034\n",
       "271    5.664940\n",
       "272    5.459740\n",
       "273    5.164962\n",
       "274    5.533688\n",
       "Name: Y, Length: 275, dtype: float64"
      ]
     },
     "execution_count": 20,
     "metadata": {},
     "output_type": "execute_result"
    }
   ],
   "source": [
    "df['Y']"
   ]
  },
  {
   "cell_type": "code",
   "execution_count": 21,
   "id": "78b4c922-c465-4b2b-b71f-7c94cdd22729",
   "metadata": {},
   "outputs": [
    {
     "data": {
      "text/plain": [
       "[0.0, 10.0]"
      ]
     },
     "execution_count": 21,
     "metadata": {},
     "output_type": "execute_result"
    }
   ],
   "source": [
    "[df['Y'].min(), df['Y'].max()]"
   ]
  },
  {
   "cell_type": "markdown",
   "id": "5549ecc9-3c0b-4efa-9a1f-340a25a1e4be",
   "metadata": {},
   "source": [
    "## Task 2 \n",
    "\n",
    "* Create two `DataLoader` objects for training and testing based on the input and output variables. Pick a reasonable batch size and verify the shape of data by iterating over the one dataset and printing the shape of the batched data. "
   ]
  },
  {
   "cell_type": "markdown",
   "id": "37efc7c5-bdc2-47b8-a1ee-964e13d968d5",
   "metadata": {},
   "source": [
    "## Work for Task 2"
   ]
  },
  {
   "cell_type": "markdown",
   "id": "62ab4bda-4972-43e2-9a82-af5d4ab3fea8",
   "metadata": {},
   "source": [
    "In order to create a dataset object we need to 2 tensor for the input and output. Therefore, we need to create the two tensor object from the dataframe values array."
   ]
  },
  {
   "cell_type": "code",
   "execution_count": 22,
   "id": "97f3e399-f2eb-4203-bb88-d7793d57bdbe",
   "metadata": {},
   "outputs": [],
   "source": [
    "input_tensor = torch.tensor(df.values[:,0:6])"
   ]
  },
  {
   "cell_type": "code",
   "execution_count": 23,
   "id": "f238c418-b7cb-42f2-9bdd-431b3af414d0",
   "metadata": {},
   "outputs": [],
   "source": [
    "output_tensor = torch.tensor(df.values[:,6:7])"
   ]
  },
  {
   "cell_type": "code",
   "execution_count": 24,
   "id": "e7702167-2379-4df4-8c01-08b43c61e075",
   "metadata": {},
   "outputs": [],
   "source": [
    "dataset = TensorDataset(input_tensor, output_tensor)"
   ]
  },
  {
   "cell_type": "markdown",
   "id": "e460fe4c-d65b-499f-83ed-fbf44c9d04ed",
   "metadata": {},
   "source": [
    "In order to split the data into training and testing data, we can use random_split function from torch library. In this case, we will split the data into a 80% training data and 20% testing data. However, the random_split function take the length of the two resulting tensor as input instead of percentage, therefore we will need to calculate the length of 80% of our dataset and the rest of will be the other 20%."
   ]
  },
  {
   "cell_type": "code",
   "execution_count": 25,
   "id": "1fc290a6-c871-4573-8d3f-1416fc0ce075",
   "metadata": {},
   "outputs": [],
   "source": [
    "train_size = int(0.8 * len(dataset))\n",
    "test_size = len(dataset) - train_size"
   ]
  },
  {
   "cell_type": "code",
   "execution_count": 26,
   "id": "bc2474d9-cd15-4296-9329-7e7a31047351",
   "metadata": {},
   "outputs": [],
   "source": [
    "train_data, test_data = random_split(dataset, [train_size, test_size])"
   ]
  },
  {
   "cell_type": "code",
   "execution_count": 27,
   "id": "62c69591-17d7-4a2a-afbe-2cc9053b00b1",
   "metadata": {},
   "outputs": [],
   "source": [
    "train_loader = DataLoader(train_data, shuffle=True, batch_size=20)\n",
    "test_loader = DataLoader(test_data, shuffle=False, batch_size=20)"
   ]
  },
  {
   "cell_type": "code",
   "execution_count": 28,
   "id": "1f3b3446-b6ff-4179-a165-d60ca10bf1bb",
   "metadata": {},
   "outputs": [
    {
     "data": {
      "text/plain": [
       "220"
      ]
     },
     "execution_count": 28,
     "metadata": {},
     "output_type": "execute_result"
    }
   ],
   "source": [
    "train_size"
   ]
  },
  {
   "cell_type": "markdown",
   "id": "1fb6f08c-5e70-4b14-b62c-4686d9f7aace",
   "metadata": {},
   "source": [
    "## Task 3\n",
    "In this task you will try to predict number of crime victims as a **real number**. Therefore the machine learning problem is a **regression** problem. \n",
    "\n",
    "* Define the proper loss function for this task\n",
    "* what should the size of the predicted output be?\n",
    "* explain your choice of architecture, including how many layers you will be using\n",
    "* define an optimizer for training this model, choose a proper learning rate \n",
    "* write a training loop that obtains a batch out of the  training data and calculates the forward and backward passes over the neural network. Call the optimizer to update the weights of the neural network.\n",
    "* write a for loop that continues the training over a number of epochs. At the end of each epoch, calculate the ``MSE`` error on the test data and print it.\n",
    "* is your model training well? Adjust the learning rate, hidden size of the network, and try different activation functions and number of layers to achieve the best accuracy and report it. "
   ]
  },
  {
   "cell_type": "markdown",
   "id": "158a0a5b-0fa4-40a5-b6df-c74a9015ecfc",
   "metadata": {},
   "source": [
    "## Work for Task 3"
   ]
  },
  {
   "cell_type": "code",
   "execution_count": 29,
   "id": "d5cc7bd3-6302-489e-8d4e-4b6b6d5bc9a1",
   "metadata": {},
   "outputs": [],
   "source": [
    "import torch.nn as nn"
   ]
  },
  {
   "cell_type": "markdown",
   "id": "a8d19204-7c9c-4a6f-9706-d85a681a6e1d",
   "metadata": {},
   "source": [
    "We can create a NeuralNetwork class for this model with 3 activation layer and 2 hidden layer by inheriting the nn.Module class. For this model we will use ReLU as our activation functions since the output will be one continous values."
   ]
  },
  {
   "cell_type": "code",
   "execution_count": 30,
   "id": "78c7bcc5-c176-4561-8e30-146b4d70c667",
   "metadata": {},
   "outputs": [],
   "source": [
    "class NNModel(nn.Module):\n",
    "    def __init__(self, inputDim, hiddenDim, outputDim):\n",
    "        super(NNModel, self).__init__()\n",
    "        self.activation1 = nn.ReLU()\n",
    "        self.activation2 = nn.ReLU()\n",
    "        self.activation3 = nn.ReLU()\n",
    "\n",
    "        self.layer1 = nn.Linear(inputDim, hiddenDim)\n",
    "        self.layer2 = nn.Linear(hiddenDim, hiddenDim)\n",
    "        self.layer3 = nn.Linear(hiddenDim, outputDim)\n",
    "\n",
    "    def forward(self, x):\n",
    "        ffw1 = self.activation1(self.layer1(x))\n",
    "        ffw2 = self.activation2(self.layer2(ffw1))\n",
    "        output = self.activation3(self.layer3(ffw2))\n",
    "        return output"
   ]
  },
  {
   "cell_type": "markdown",
   "id": "838baf63-6b18-4e2c-a9b0-76e21ec8f393",
   "metadata": {},
   "source": [
    "Our model will have 6 inputs and 1 output."
   ]
  },
  {
   "cell_type": "code",
   "execution_count": 31,
   "id": "f88db26c-dc97-4df1-aa73-d6f5956d6aec",
   "metadata": {},
   "outputs": [],
   "source": [
    "model = NNModel(6, 10, 1)"
   ]
  },
  {
   "cell_type": "code",
   "execution_count": 32,
   "id": "0b5176a1-a17e-48f8-a7c4-7b7139b6efce",
   "metadata": {},
   "outputs": [
    {
     "data": {
      "text/plain": [
       "NNModel(\n",
       "  (activation1): ReLU()\n",
       "  (activation2): ReLU()\n",
       "  (activation3): ReLU()\n",
       "  (layer1): Linear(in_features=6, out_features=10, bias=True)\n",
       "  (layer2): Linear(in_features=10, out_features=10, bias=True)\n",
       "  (layer3): Linear(in_features=10, out_features=1, bias=True)\n",
       ")"
      ]
     },
     "execution_count": 32,
     "metadata": {},
     "output_type": "execute_result"
    }
   ],
   "source": [
    "model"
   ]
  },
  {
   "cell_type": "markdown",
   "id": "5950681b-ff13-41b8-a68c-a45fdb93081f",
   "metadata": {},
   "source": [
    "For this model we will use mean square error as our loss function since the output is a continous value. We will also use Adam as our optimizer with a learning rate of 0.01."
   ]
  },
  {
   "cell_type": "code",
   "execution_count": 33,
   "id": "9873c8ef-7927-4094-9536-f2984fd97f63",
   "metadata": {},
   "outputs": [],
   "source": [
    "loss_function = nn.MSELoss()"
   ]
  },
  {
   "cell_type": "code",
   "execution_count": 34,
   "id": "0c8df7b6-1ae6-49f6-8d4f-727234ed0752",
   "metadata": {},
   "outputs": [],
   "source": [
    "optimizer = torch.optim.Adam(model.parameters(), lr=0.01)"
   ]
  },
  {
   "cell_type": "code",
   "execution_count": 35,
   "id": "adea941d-db33-4a6b-a324-cc49dc4c38cc",
   "metadata": {},
   "outputs": [
    {
     "name": "stdout",
     "output_type": "stream",
     "text": [
      "Average test loss after epoch 1: 1.199058175086975\n",
      "Average test loss after epoch 2: 1.2227447032928467\n",
      "Average test loss after epoch 3: 1.1966651678085327\n",
      "Average test loss after epoch 4: 1.181410551071167\n",
      "Average test loss after epoch 5: 1.2107067108154297\n",
      "Average test loss after epoch 6: 1.163202166557312\n",
      "Average test loss after epoch 7: 1.1584845781326294\n",
      "Average test loss after epoch 8: 1.1582460403442383\n",
      "Average test loss after epoch 9: 1.1671065092086792\n",
      "Average test loss after epoch 10: 1.1563689708709717\n",
      "Average test loss after epoch 11: 1.1515902280807495\n",
      "Average test loss after epoch 12: 1.1439495086669922\n",
      "Average test loss after epoch 13: 1.2084457874298096\n",
      "Average test loss after epoch 14: 1.1722474098205566\n",
      "Average test loss after epoch 15: 1.121559739112854\n",
      "Average test loss after epoch 16: 1.1569583415985107\n",
      "Average test loss after epoch 17: 1.1660887002944946\n",
      "Average test loss after epoch 18: 1.135208249092102\n",
      "Average test loss after epoch 19: 1.101794958114624\n",
      "Average test loss after epoch 20: 1.125787377357483\n"
     ]
    }
   ],
   "source": [
    "num_epoch = 20\n",
    "iter = 0\n",
    "for epoch in range(num_epoch):\n",
    "    for num, (inputs, victim_nums) in enumerate(train_loader):\n",
    "        inputs = inputs.requires_grad_()\n",
    "        optimizer.zero_grad()\n",
    "        predictions = model(inputs.float())\n",
    "        loss = loss_function(predictions, victim_nums.float())\n",
    "        loss.backward()\n",
    "        optimizer.step()\n",
    "    iter+=1\n",
    "    total_loss = 0\n",
    "    for i, (inputs, victim_nums) in enumerate(test_loader):\n",
    "        inputs = inputs.requires_grad_()\n",
    "        predictions = model(inputs.float())\n",
    "        loss = loss_function(predictions, victim_nums.float())\n",
    "        total_loss +=loss\n",
    "    average_loss = total_loss/(test_size/20)\n",
    "    print(\"Average test loss after epoch {}: {}\".format(iter, average_loss))\n",
    "        \n",
    "    "
   ]
  },
  {
   "cell_type": "code",
   "execution_count": 36,
   "id": "a44dceec-563c-404a-a325-415685d9382e",
   "metadata": {},
   "outputs": [],
   "source": [
    "for i, example in enumerate(test_loader):\n",
    "    x, y = example\n",
    "    break"
   ]
  },
  {
   "cell_type": "code",
   "execution_count": 37,
   "id": "66ee834d-427b-4519-950d-19df6850235f",
   "metadata": {
    "scrolled": true
   },
   "outputs": [
    {
     "data": {
      "text/plain": [
       "tensor([[0.8403],\n",
       "        [1.1620],\n",
       "        [0.3798],\n",
       "        [1.2427],\n",
       "        [0.8741],\n",
       "        [1.1620],\n",
       "        [0.5369],\n",
       "        [0.6273],\n",
       "        [0.5484],\n",
       "        [1.0794],\n",
       "        [0.7901],\n",
       "        [0.8974],\n",
       "        [0.6808],\n",
       "        [0.4529],\n",
       "        [1.1585],\n",
       "        [1.2543],\n",
       "        [1.2100],\n",
       "        [0.6812],\n",
       "        [1.0195],\n",
       "        [1.2999]], grad_fn=<ReluBackward0>)"
      ]
     },
     "execution_count": 37,
     "metadata": {},
     "output_type": "execute_result"
    }
   ],
   "source": [
    "model(x.float())"
   ]
  },
  {
   "cell_type": "code",
   "execution_count": 38,
   "id": "02913098-33cf-429b-8f8d-8f783ff1d940",
   "metadata": {},
   "outputs": [
    {
     "data": {
      "text/plain": [
       "tensor([[1.],\n",
       "        [3.],\n",
       "        [0.],\n",
       "        [1.],\n",
       "        [0.],\n",
       "        [3.],\n",
       "        [0.],\n",
       "        [0.],\n",
       "        [1.],\n",
       "        [0.],\n",
       "        [0.],\n",
       "        [0.],\n",
       "        [1.],\n",
       "        [0.],\n",
       "        [0.],\n",
       "        [1.],\n",
       "        [3.],\n",
       "        [0.],\n",
       "        [0.],\n",
       "        [0.]], dtype=torch.float64)"
      ]
     },
     "execution_count": 38,
     "metadata": {},
     "output_type": "execute_result"
    }
   ],
   "source": [
    "y"
   ]
  },
  {
   "cell_type": "markdown",
   "id": "86e3fc70-c6ce-4589-9930-128951290e8d",
   "metadata": {},
   "source": [
    "## Task 4 \n",
    "\n",
    "In this task, you will try to predict the number of crime victims as a **class number**. Therefore the machine learning problem is a **classification** problem. \n",
    "\n",
    "* Repeat all the steps in task 3. Specifically, pay attention to the differences with regression.\n",
    "* How would you find the number of classes on the output data?\n",
    "* How is the architecture different?\n",
    "* How is the loss function different?\n",
    "* Calculate the Accuracy for test data as the number of correct classified outputs divided by the total number of test data in each epoch. Report it at the end of each epoch\n",
    "* Try a few variations of learning rate, hidden dimensions, layers, etc. What is the best accuracy that you can get? "
   ]
  },
  {
   "cell_type": "markdown",
   "id": "71781bcb-ce4d-40cb-9969-a8217999639a",
   "metadata": {},
   "source": [
    "## Work for Task 4"
   ]
  },
  {
   "cell_type": "markdown",
   "id": "bf672dc5-b518-44fe-bc54-e30665b0b48e",
   "metadata": {},
   "source": [
    "Since there are at most 6 victims and at least 0 victims, we can create 7 classes, 1 for each number from 0 to 6. Let's define a neural network class model for the classification problem. In this model, we will have 4 activation layers and 5 hidden layers. Each layer will be activated by a Sigmoid function since it is a classification model."
   ]
  },
  {
   "cell_type": "code",
   "execution_count": 39,
   "id": "c4eb02cc-b52d-4dc1-90eb-15686863026a",
   "metadata": {},
   "outputs": [],
   "source": [
    "class NNClassModel(nn.Module):\n",
    "    def __init__(self, inputdim, hiddendim, outputdim):\n",
    "        super(NNClassModel, self).__init__()\n",
    "        self.layer1 = nn.Linear(inputdim, hiddendim)\n",
    "        self.layer2 = nn.Linear(hiddendim, hiddendim)\n",
    "        self.layer3 = nn.Linear(hiddendim, hiddendim)\n",
    "        self.layer4 = nn.Linear(hiddendim, outputdim)\n",
    "        self.activation1 = nn.Sigmoid()\n",
    "        self.activation2 = nn.Sigmoid()\n",
    "        self.activation3 = nn.Sigmoid()\n",
    "        self.activation4 = nn.Sigmoid()\n",
    "    def forward(self, x):\n",
    "        ffw1 = self.activation1(self.layer1(x))\n",
    "        ffw2 = self.activation2(self.layer2(ffw1))\n",
    "        ffw3 = self.activation3(self.layer3(ffw2))\n",
    "        output = self.activation4(self.layer4(ffw3))\n",
    "        return output"
   ]
  },
  {
   "cell_type": "markdown",
   "id": "f70d4046-1c60-4522-8e22-47b6294d795b",
   "metadata": {},
   "source": [
    "We can find the class based on the victim numbers on our dataset. We found out from earlier that our victim numbers data has a max of 6 and a min of 0. Since the number of victim is discrete, there should be a total of 7 class ranging from 0 to 6."
   ]
  },
  {
   "cell_type": "markdown",
   "id": "5624ed2f-3955-47fa-97e6-9ab6eb50f574",
   "metadata": {},
   "source": [
    "We'll have the number of hidden dimension in each layer 42 since it provide the best accuracy overall among all the amount that were tested."
   ]
  },
  {
   "cell_type": "code",
   "execution_count": 40,
   "id": "c55b564a-51bf-4f40-b89b-ce80910c56df",
   "metadata": {},
   "outputs": [],
   "source": [
    "class_model = NNClassModel(6, 42, 7)"
   ]
  },
  {
   "cell_type": "markdown",
   "id": "cfea37b0-a052-439a-b4b3-9c27dfe3aa0e",
   "metadata": {},
   "source": [
    "We will use cross entropy loss as our loss function for this model since it is a classification model. We will keep using Adam as our optimizer."
   ]
  },
  {
   "cell_type": "code",
   "execution_count": 41,
   "id": "fcdd00f4-e99d-4aff-8337-190a757c0292",
   "metadata": {},
   "outputs": [],
   "source": [
    "class_loss_function = nn.CrossEntropyLoss()"
   ]
  },
  {
   "cell_type": "code",
   "execution_count": 42,
   "id": "0c086c2d-7f3d-48b6-8954-94eca8cc724c",
   "metadata": {},
   "outputs": [],
   "source": [
    "optimizer = torch.optim.Adam(class_model.parameters(), lr = 0.001)"
   ]
  },
  {
   "cell_type": "markdown",
   "id": "91396297-a2d6-440d-84ee-e59abf433299",
   "metadata": {},
   "source": [
    "This training loop code is based on the training loop example from the PyTorch official document."
   ]
  },
  {
   "cell_type": "code",
   "execution_count": 43,
   "id": "60f651fc-0f37-47b2-bdeb-80480a1ac0d6",
   "metadata": {
    "scrolled": true
   },
   "outputs": [],
   "source": [
    "def train_one_epoch():\n",
    "    avg_train_loss = 0.\n",
    "    last_loss = 0.\n",
    "    for i, data in enumerate(train_loader):\n",
    "        inputs, victim_nums = data\n",
    "        victim_nums = victim_nums.long().squeeze()\n",
    "        inputs = inputs.float()\n",
    "        optimizer.zero_grad()\n",
    "        outputs = class_model(inputs)\n",
    "        loss = class_loss_function(outputs, victim_nums)\n",
    "        loss.backward()\n",
    "        optimizer.step()\n",
    "        running_loss = loss.item()\n",
    "        print('  batch {} loss: {}'.format(i + 1, running_loss))\n",
    "        last_loss += running_loss\n",
    "    avg_train_loss = last_loss / (i+1)\n",
    "    return avg_train_loss"
   ]
  },
  {
   "cell_type": "code",
   "execution_count": 44,
   "id": "70133b7b-cc26-43c8-81bd-6856bdf16fd0",
   "metadata": {},
   "outputs": [
    {
     "name": "stdout",
     "output_type": "stream",
     "text": [
      "EPOCH 1:\n",
      "  batch 1 loss: 1.867525339126587\n",
      "  batch 2 loss: 1.8440049886703491\n",
      "  batch 3 loss: 1.8244550228118896\n",
      "  batch 4 loss: 1.844646692276001\n",
      "  batch 5 loss: 1.8459007740020752\n",
      "  batch 6 loss: 1.8330751657485962\n",
      "  batch 7 loss: 1.8200794458389282\n",
      "  batch 8 loss: 1.8119351863861084\n",
      "  batch 9 loss: 1.7955176830291748\n",
      "  batch 10 loss: 1.7753467559814453\n",
      "  batch 11 loss: 1.780525803565979\n",
      "LOSS train 1.8220920779488303 test 1.7915037870407104\n",
      "Total 55 Correct 16 Accuracy 29.090909957885742\n",
      "EPOCH 2:\n",
      "  batch 1 loss: 1.7555691003799438\n",
      "  batch 2 loss: 1.8014070987701416\n",
      "  batch 3 loss: 1.760859489440918\n",
      "  batch 4 loss: 1.7541701793670654\n",
      "  batch 5 loss: 1.7092745304107666\n",
      "  batch 6 loss: 1.7581532001495361\n",
      "  batch 7 loss: 1.7748768329620361\n",
      "  batch 8 loss: 1.746148705482483\n",
      "  batch 9 loss: 1.687949538230896\n",
      "  batch 10 loss: 1.7321685552597046\n",
      "  batch 11 loss: 1.6796518564224243\n",
      "LOSS train 1.7418390078978105 test 1.7224678993225098\n",
      "Total 55 Correct 16 Accuracy 29.090909957885742\n",
      "EPOCH 3:\n",
      "  batch 1 loss: 1.750976324081421\n",
      "  batch 2 loss: 1.6678425073623657\n",
      "  batch 3 loss: 1.6803630590438843\n",
      "  batch 4 loss: 1.6524546146392822\n",
      "  batch 5 loss: 1.7257344722747803\n",
      "  batch 6 loss: 1.6923881769180298\n",
      "  batch 7 loss: 1.714242935180664\n",
      "  batch 8 loss: 1.62630295753479\n",
      "  batch 9 loss: 1.6501867771148682\n",
      "  batch 10 loss: 1.586394190788269\n",
      "  batch 11 loss: 1.6417019367218018\n",
      "LOSS train 1.6716898137872869 test 1.6649608612060547\n",
      "Total 55 Correct 16 Accuracy 29.090909957885742\n",
      "EPOCH 4:\n",
      "  batch 1 loss: 1.6339986324310303\n",
      "  batch 2 loss: 1.6613781452178955\n",
      "  batch 3 loss: 1.6166515350341797\n",
      "  batch 4 loss: 1.6212354898452759\n",
      "  batch 5 loss: 1.6467173099517822\n",
      "  batch 6 loss: 1.5744792222976685\n",
      "  batch 7 loss: 1.6693799495697021\n",
      "  batch 8 loss: 1.5997920036315918\n",
      "  batch 9 loss: 1.6597654819488525\n",
      "  batch 10 loss: 1.5209887027740479\n",
      "  batch 11 loss: 1.5503143072128296\n",
      "LOSS train 1.6140637072649868 test 1.6186712980270386\n",
      "Total 55 Correct 30 Accuracy 54.54545593261719\n",
      "EPOCH 5:\n",
      "  batch 1 loss: 1.545747995376587\n",
      "  batch 2 loss: 1.5408947467803955\n",
      "  batch 3 loss: 1.5745975971221924\n",
      "  batch 4 loss: 1.6082375049591064\n",
      "  batch 5 loss: 1.5671193599700928\n",
      "  batch 6 loss: 1.5248911380767822\n",
      "  batch 7 loss: 1.5594737529754639\n",
      "  batch 8 loss: 1.5533127784729004\n",
      "  batch 9 loss: 1.6302636861801147\n",
      "  batch 10 loss: 1.5848076343536377\n",
      "  batch 11 loss: 1.582567572593689\n",
      "LOSS train 1.570173978805542 test 1.5844874382019043\n",
      "Total 55 Correct 30 Accuracy 54.54545593261719\n",
      "EPOCH 6:\n",
      "  batch 1 loss: 1.541329264640808\n",
      "  batch 2 loss: 1.5023530721664429\n",
      "  batch 3 loss: 1.576212763786316\n",
      "  batch 4 loss: 1.6149961948394775\n",
      "  batch 5 loss: 1.53115975856781\n",
      "  batch 6 loss: 1.44913649559021\n",
      "  batch 7 loss: 1.5287983417510986\n",
      "  batch 8 loss: 1.6058809757232666\n",
      "  batch 9 loss: 1.5231274366378784\n",
      "  batch 10 loss: 1.5217225551605225\n",
      "  batch 11 loss: 1.5192859172821045\n",
      "LOSS train 1.5376366160132668 test 1.5616942644119263\n",
      "Total 55 Correct 30 Accuracy 54.54545593261719\n",
      "EPOCH 7:\n",
      "  batch 1 loss: 1.518522024154663\n",
      "  batch 2 loss: 1.471548318862915\n",
      "  batch 3 loss: 1.6830692291259766\n",
      "  batch 4 loss: 1.5538207292556763\n",
      "  batch 5 loss: 1.4249078035354614\n",
      "  batch 6 loss: 1.4668934345245361\n",
      "  batch 7 loss: 1.4217913150787354\n",
      "  batch 8 loss: 1.5038425922393799\n",
      "  batch 9 loss: 1.5031764507293701\n",
      "  batch 10 loss: 1.5894150733947754\n",
      "  batch 11 loss: 1.544441819190979\n",
      "LOSS train 1.5164935263720425 test 1.5467981100082397\n",
      "Total 55 Correct 30 Accuracy 54.54545593261719\n",
      "EPOCH 8:\n",
      "  batch 1 loss: 1.4563322067260742\n",
      "  batch 2 loss: 1.497504711151123\n",
      "  batch 3 loss: 1.5413472652435303\n",
      "  batch 4 loss: 1.4965190887451172\n",
      "  batch 5 loss: 1.4944875240325928\n",
      "  batch 6 loss: 1.5372884273529053\n",
      "  batch 7 loss: 1.5384646654129028\n",
      "  batch 8 loss: 1.5827330350875854\n",
      "  batch 9 loss: 1.5363012552261353\n",
      "  batch 10 loss: 1.4013749361038208\n",
      "  batch 11 loss: 1.443730115890503\n",
      "LOSS train 1.5023712028156628 test 1.5370253324508667\n",
      "Total 55 Correct 30 Accuracy 54.54545593261719\n",
      "EPOCH 9:\n",
      "  batch 1 loss: 1.577997088432312\n",
      "  batch 2 loss: 1.621019959449768\n",
      "  batch 3 loss: 1.441362738609314\n",
      "  batch 4 loss: 1.4401038885116577\n",
      "  batch 5 loss: 1.5306209325790405\n",
      "  batch 6 loss: 1.4849419593811035\n",
      "  batch 7 loss: 1.439046859741211\n",
      "  batch 8 loss: 1.5312588214874268\n",
      "  batch 9 loss: 1.5283172130584717\n",
      "  batch 10 loss: 1.435912847518921\n",
      "  batch 11 loss: 1.391187071800232\n",
      "LOSS train 1.4928881255063144 test 1.5303115844726562\n",
      "Total 55 Correct 30 Accuracy 54.54545593261719\n",
      "EPOCH 10:\n",
      "  batch 1 loss: 1.5713317394256592\n",
      "  batch 2 loss: 1.4369800090789795\n",
      "  batch 3 loss: 1.5252765417099\n",
      "  batch 4 loss: 1.3875396251678467\n",
      "  batch 5 loss: 1.4779530763626099\n",
      "  batch 6 loss: 1.4774199724197388\n",
      "  batch 7 loss: 1.4315646886825562\n",
      "  batch 8 loss: 1.6146299839019775\n",
      "  batch 9 loss: 1.4308891296386719\n",
      "  batch 10 loss: 1.5215924978256226\n",
      "  batch 11 loss: 1.4756478071212769\n",
      "LOSS train 1.4864386428486218 test 1.5254853963851929\n",
      "Total 55 Correct 30 Accuracy 54.54545593261719\n",
      "EPOCH 11:\n",
      "  batch 1 loss: 1.4740641117095947\n",
      "  batch 2 loss: 1.4298174381256104\n",
      "  batch 3 loss: 1.4739781618118286\n",
      "  batch 4 loss: 1.4271271228790283\n",
      "  batch 5 loss: 1.5647976398468018\n",
      "  batch 6 loss: 1.5664658546447754\n",
      "  batch 7 loss: 1.4715478420257568\n",
      "  batch 8 loss: 1.3801672458648682\n",
      "  batch 9 loss: 1.5170480012893677\n",
      "  batch 10 loss: 1.5664821863174438\n",
      "  batch 11 loss: 1.425472617149353\n",
      "LOSS train 1.4815425656058572 test 1.5218572616577148\n",
      "Total 55 Correct 30 Accuracy 54.54545593261719\n",
      "EPOCH 12:\n",
      "  batch 1 loss: 1.4715662002563477\n",
      "  batch 2 loss: 1.562453269958496\n",
      "  batch 3 loss: 1.5168006420135498\n",
      "  batch 4 loss: 1.4704035520553589\n",
      "  batch 5 loss: 1.5164449214935303\n",
      "  batch 6 loss: 1.5156867504119873\n",
      "  batch 7 loss: 1.4221712350845337\n",
      "  batch 8 loss: 1.5174697637557983\n",
      "  batch 9 loss: 1.4677135944366455\n",
      "  batch 10 loss: 1.4210907220840454\n",
      "  batch 11 loss: 1.3737565279006958\n",
      "LOSS train 1.4777779254046353 test 1.5191502571105957\n",
      "Total 55 Correct 30 Accuracy 54.54545593261719\n",
      "EPOCH 13:\n",
      "  batch 1 loss: 1.4206206798553467\n",
      "  batch 2 loss: 1.4213812351226807\n",
      "  batch 3 loss: 1.5146725177764893\n",
      "  batch 4 loss: 1.4671756029129028\n",
      "  batch 5 loss: 1.4650137424468994\n",
      "  batch 6 loss: 1.4666460752487183\n",
      "  batch 7 loss: 1.5122554302215576\n",
      "  batch 8 loss: 1.466174840927124\n",
      "  batch 9 loss: 1.4655150175094604\n",
      "  batch 10 loss: 1.4180699586868286\n",
      "  batch 11 loss: 1.6075232028961182\n",
      "LOSS train 1.4750043912367388 test 1.5169339179992676\n",
      "Total 55 Correct 30 Accuracy 54.54545593261719\n",
      "EPOCH 14:\n",
      "  batch 1 loss: 1.4175947904586792\n",
      "  batch 2 loss: 1.5605448484420776\n",
      "  batch 3 loss: 1.4165771007537842\n",
      "  batch 4 loss: 1.464972734451294\n",
      "  batch 5 loss: 1.3690769672393799\n",
      "  batch 6 loss: 1.558946132659912\n",
      "  batch 7 loss: 1.4157222509384155\n",
      "  batch 8 loss: 1.5115199089050293\n",
      "  batch 9 loss: 1.4148083925247192\n",
      "  batch 10 loss: 1.5585216283798218\n",
      "  batch 11 loss: 1.510675311088562\n",
      "LOSS train 1.472632733258334 test 1.5151715278625488\n",
      "Total 55 Correct 30 Accuracy 54.54545593261719\n",
      "EPOCH 15:\n",
      "  batch 1 loss: 1.4632600545883179\n",
      "  batch 2 loss: 1.4634556770324707\n",
      "  batch 3 loss: 1.5578306913375854\n",
      "  batch 4 loss: 1.4621154069900513\n",
      "  batch 5 loss: 1.4619436264038086\n",
      "  batch 6 loss: 1.4140574932098389\n",
      "  batch 7 loss: 1.6058324575424194\n",
      "  batch 8 loss: 1.4129793643951416\n",
      "  batch 9 loss: 1.4135385751724243\n",
      "  batch 10 loss: 1.414089560508728\n",
      "  batch 11 loss: 1.5086307525634766\n",
      "LOSS train 1.4707030599767512 test 1.5137208700180054\n",
      "Total 55 Correct 30 Accuracy 54.54545593261719\n",
      "EPOCH 16:\n",
      "  batch 1 loss: 1.6056216955184937\n",
      "  batch 2 loss: 1.4600492715835571\n",
      "  batch 3 loss: 1.4602588415145874\n",
      "  batch 4 loss: 1.4610440731048584\n",
      "  batch 5 loss: 1.3644065856933594\n",
      "  batch 6 loss: 1.4130938053131104\n",
      "  batch 7 loss: 1.5074522495269775\n",
      "  batch 8 loss: 1.4128910303115845\n",
      "  batch 9 loss: 1.4595791101455688\n",
      "  batch 10 loss: 1.5077898502349854\n",
      "  batch 11 loss: 1.5083192586898804\n",
      "LOSS train 1.469136888330633 test 1.512495994567871\n",
      "Total 55 Correct 30 Accuracy 54.54545593261719\n",
      "EPOCH 17:\n",
      "  batch 1 loss: 1.4116283655166626\n",
      "  batch 2 loss: 1.507110595703125\n",
      "  batch 3 loss: 1.4596149921417236\n",
      "  batch 4 loss: 1.5551989078521729\n",
      "  batch 5 loss: 1.3626881837844849\n",
      "  batch 6 loss: 1.459911584854126\n",
      "  batch 7 loss: 1.4583948850631714\n",
      "  batch 8 loss: 1.507612705230713\n",
      "  batch 9 loss: 1.4578981399536133\n",
      "  batch 10 loss: 1.4110621213912964\n",
      "  batch 11 loss: 1.5547246932983398\n",
      "LOSS train 1.467804106799039 test 1.5114456415176392\n",
      "Total 55 Correct 30 Accuracy 54.54545593261719\n",
      "EPOCH 18:\n",
      "  batch 1 loss: 1.4102040529251099\n",
      "  batch 2 loss: 1.4100866317749023\n",
      "  batch 3 loss: 1.5069938898086548\n",
      "  batch 4 loss: 1.5550092458724976\n",
      "  batch 5 loss: 1.3605941534042358\n",
      "  batch 6 loss: 1.4092124700546265\n",
      "  batch 7 loss: 1.554347276687622\n",
      "  batch 8 loss: 1.5549030303955078\n",
      "  batch 9 loss: 1.4579523801803589\n",
      "  batch 10 loss: 1.457176923751831\n",
      "  batch 11 loss: 1.4566730260849\n",
      "LOSS train 1.466650280085477 test 1.5105475187301636\n",
      "Total 55 Correct 30 Accuracy 54.54545593261719\n",
      "EPOCH 19:\n",
      "  batch 1 loss: 1.4564365148544312\n",
      "  batch 2 loss: 1.4572675228118896\n",
      "  batch 3 loss: 1.4085651636123657\n",
      "  batch 4 loss: 1.6023696660995483\n",
      "  batch 5 loss: 1.5052704811096191\n",
      "  batch 6 loss: 1.5054795742034912\n",
      "  batch 7 loss: 1.4086668491363525\n",
      "  batch 8 loss: 1.4083832502365112\n",
      "  batch 9 loss: 1.4079982042312622\n",
      "  batch 10 loss: 1.553817629814148\n",
      "  batch 11 loss: 1.407749891281128\n",
      "LOSS train 1.4656367952173406 test 1.5097684860229492\n",
      "Total 55 Correct 30 Accuracy 54.54545593261719\n",
      "EPOCH 20:\n",
      "  batch 1 loss: 1.4077190160751343\n",
      "  batch 2 loss: 1.504280686378479\n",
      "  batch 3 loss: 1.6503956317901611\n",
      "  batch 4 loss: 1.5535520315170288\n",
      "  batch 5 loss: 1.503957986831665\n",
      "  batch 6 loss: 1.3587204217910767\n",
      "  batch 7 loss: 1.3595050573349\n",
      "  batch 8 loss: 1.5528881549835205\n",
      "  batch 9 loss: 1.5044524669647217\n",
      "  batch 10 loss: 1.3582106828689575\n",
      "  batch 11 loss: 1.3586266040802002\n",
      "LOSS train 1.4647553400559858 test 1.5090913772583008\n",
      "Total 55 Correct 30 Accuracy 54.54545593261719\n",
      "EPOCH 21:\n",
      "  batch 1 loss: 1.504931092262268\n",
      "  batch 2 loss: 1.5040781497955322\n",
      "  batch 3 loss: 1.3581730127334595\n",
      "  batch 4 loss: 1.5040161609649658\n",
      "  batch 5 loss: 1.4066331386566162\n",
      "  batch 6 loss: 1.4554669857025146\n",
      "  batch 7 loss: 1.5518280267715454\n",
      "  batch 8 loss: 1.406410574913025\n",
      "  batch 9 loss: 1.5038126707077026\n",
      "  batch 10 loss: 1.4064340591430664\n",
      "  batch 11 loss: 1.502378225326538\n",
      "LOSS train 1.4640147360888394 test 1.508489727973938\n",
      "Total 55 Correct 30 Accuracy 54.54545593261719\n",
      "EPOCH 22:\n",
      "  batch 1 loss: 1.5027766227722168\n",
      "  batch 2 loss: 1.4550225734710693\n",
      "  batch 3 loss: 1.3569471836090088\n",
      "  batch 4 loss: 1.5035030841827393\n",
      "  batch 5 loss: 1.3572332859039307\n",
      "  batch 6 loss: 1.4550179243087769\n",
      "  batch 7 loss: 1.5027663707733154\n",
      "  batch 8 loss: 1.6003599166870117\n",
      "  batch 9 loss: 1.5517059564590454\n",
      "  batch 10 loss: 1.405902624130249\n",
      "  batch 11 loss: 1.4052855968475342\n",
      "LOSS train 1.463320103558627 test 1.50794517993927\n",
      "Total 55 Correct 30 Accuracy 54.54545593261719\n",
      "EPOCH 23:\n",
      "  batch 1 loss: 1.4538778066635132\n",
      "  batch 2 loss: 1.4053020477294922\n",
      "  batch 3 loss: 1.5030795335769653\n",
      "  batch 4 loss: 1.5027673244476318\n",
      "  batch 5 loss: 1.5027244091033936\n",
      "  batch 6 loss: 1.4049103260040283\n",
      "  batch 7 loss: 1.5026382207870483\n",
      "  batch 8 loss: 1.4534738063812256\n",
      "  batch 9 loss: 1.454120397567749\n",
      "  batch 10 loss: 1.404979944229126\n",
      "  batch 11 loss: 1.5019387006759644\n",
      "LOSS train 1.4627102288332852 test 1.5074697732925415\n",
      "Total 55 Correct 30 Accuracy 54.54545593261719\n",
      "EPOCH 24:\n",
      "  batch 1 loss: 1.5020273923873901\n",
      "  batch 2 loss: 1.4046212434768677\n",
      "  batch 3 loss: 1.550528883934021\n",
      "  batch 4 loss: 1.4533149003982544\n",
      "  batch 5 loss: 1.4537512063980103\n",
      "  batch 6 loss: 1.5512231588363647\n",
      "  batch 7 loss: 1.4046204090118408\n",
      "  batch 8 loss: 1.4533300399780273\n",
      "  batch 9 loss: 1.453556776046753\n",
      "  batch 10 loss: 1.50156569480896\n",
      "  batch 11 loss: 1.3552498817443848\n",
      "LOSS train 1.4621626897291704 test 1.507042407989502\n",
      "Total 55 Correct 30 Accuracy 54.54545593261719\n",
      "EPOCH 25:\n",
      "  batch 1 loss: 1.3555755615234375\n",
      "  batch 2 loss: 1.50247323513031\n",
      "  batch 3 loss: 1.4042565822601318\n",
      "  batch 4 loss: 1.5516397953033447\n",
      "  batch 5 loss: 1.5017809867858887\n",
      "  batch 6 loss: 1.5501174926757812\n",
      "  batch 7 loss: 1.5501999855041504\n",
      "  batch 8 loss: 1.4034112691879272\n",
      "  batch 9 loss: 1.35452139377594\n",
      "  batch 10 loss: 1.452409267425537\n",
      "  batch 11 loss: 1.4522631168365479\n",
      "LOSS train 1.4616953351280906 test 1.5066660642623901\n",
      "Total 55 Correct 30 Accuracy 54.54545593261719\n",
      "EPOCH 26:\n",
      "  batch 1 loss: 1.5012996196746826\n",
      "  batch 2 loss: 1.4521663188934326\n",
      "  batch 3 loss: 1.4528019428253174\n",
      "  batch 4 loss: 1.4517580270767212\n",
      "  batch 5 loss: 1.3546051979064941\n",
      "  batch 6 loss: 1.4032247066497803\n",
      "  batch 7 loss: 1.452406644821167\n",
      "  batch 8 loss: 1.5013432502746582\n",
      "  batch 9 loss: 1.4526698589324951\n",
      "  batch 10 loss: 1.6485621929168701\n",
      "  batch 11 loss: 1.4027903079986572\n",
      "LOSS train 1.4612389152700251 test 1.5063074827194214\n",
      "Total 55 Correct 30 Accuracy 54.54545593261719\n",
      "EPOCH 27:\n",
      "  batch 1 loss: 1.4026429653167725\n",
      "  batch 2 loss: 1.5014854669570923\n",
      "  batch 3 loss: 1.4030991792678833\n",
      "  batch 4 loss: 1.4522136449813843\n",
      "  batch 5 loss: 1.5493342876434326\n",
      "  batch 6 loss: 1.4031832218170166\n",
      "  batch 7 loss: 1.5497130155563354\n",
      "  batch 8 loss: 1.40320885181427\n",
      "  batch 9 loss: 1.549809217453003\n",
      "  batch 10 loss: 1.3535236120224\n",
      "  batch 11 loss: 1.5009506940841675\n",
      "LOSS train 1.460833105173978 test 1.5059871673583984\n",
      "Total 55 Correct 30 Accuracy 54.54545593261719\n",
      "EPOCH 28:\n",
      "  batch 1 loss: 1.3538517951965332\n",
      "  batch 2 loss: 1.402488112449646\n",
      "  batch 3 loss: 1.4024467468261719\n",
      "  batch 4 loss: 1.4026119709014893\n",
      "  batch 5 loss: 1.5494966506958008\n",
      "  batch 6 loss: 1.4515912532806396\n",
      "  batch 7 loss: 1.5009305477142334\n",
      "  batch 8 loss: 1.4515806436538696\n",
      "  batch 9 loss: 1.4025557041168213\n",
      "  batch 10 loss: 1.4517031908035278\n",
      "  batch 11 loss: 1.696014165878296\n",
      "LOSS train 1.4604791619560935 test 1.5056947469711304\n",
      "Total 55 Correct 30 Accuracy 54.54545593261719\n",
      "EPOCH 29:\n",
      "  batch 1 loss: 1.4512598514556885\n",
      "  batch 2 loss: 1.5005645751953125\n",
      "  batch 3 loss: 1.3527942895889282\n",
      "  batch 4 loss: 1.4514520168304443\n",
      "  batch 5 loss: 1.4020707607269287\n",
      "  batch 6 loss: 1.5010316371917725\n",
      "  batch 7 loss: 1.5001506805419922\n",
      "  batch 8 loss: 1.5493321418762207\n",
      "  batch 9 loss: 1.5492175817489624\n",
      "  batch 10 loss: 1.352459192276001\n",
      "  batch 11 loss: 1.4510612487792969\n",
      "LOSS train 1.4601267251101406 test 1.5054330825805664\n",
      "Total 55 Correct 30 Accuracy 54.54545593261719\n",
      "EPOCH 30:\n",
      "  batch 1 loss: 1.4019291400909424\n",
      "  batch 2 loss: 1.4020936489105225\n",
      "  batch 3 loss: 1.4509756565093994\n",
      "  batch 4 loss: 1.4017430543899536\n",
      "  batch 5 loss: 1.4017956256866455\n",
      "  batch 6 loss: 1.5001243352890015\n",
      "  batch 7 loss: 1.5986692905426025\n",
      "  batch 8 loss: 1.4996427297592163\n",
      "  batch 9 loss: 1.4996589422225952\n",
      "  batch 10 loss: 1.499731183052063\n",
      "  batch 11 loss: 1.401709794998169\n",
      "LOSS train 1.4598248546773738 test 1.5051889419555664\n",
      "Total 55 Correct 30 Accuracy 54.54545593261719\n",
      "EPOCH 31:\n",
      "  batch 1 loss: 1.352615237236023\n",
      "  batch 2 loss: 1.549368143081665\n",
      "  batch 3 loss: 1.3522125482559204\n",
      "  batch 4 loss: 1.4991117715835571\n",
      "  batch 5 loss: 1.4012947082519531\n",
      "  batch 6 loss: 1.4510314464569092\n",
      "  batch 7 loss: 1.4502273797988892\n",
      "  batch 8 loss: 1.548957347869873\n",
      "  batch 9 loss: 1.4999353885650635\n",
      "  batch 10 loss: 1.4997118711471558\n",
      "  batch 11 loss: 1.4504749774932861\n",
      "LOSS train 1.459540074521845 test 1.50496244430542\n",
      "Total 55 Correct 30 Accuracy 54.54545593261719\n",
      "EPOCH 32:\n",
      "  batch 1 loss: 1.4508154392242432\n",
      "  batch 2 loss: 1.3517305850982666\n",
      "  batch 3 loss: 1.4503061771392822\n",
      "  batch 4 loss: 1.4500421285629272\n",
      "  batch 5 loss: 1.4999644756317139\n",
      "  batch 6 loss: 1.4992668628692627\n",
      "  batch 7 loss: 1.54866623878479\n",
      "  batch 8 loss: 1.400994896888733\n",
      "  batch 9 loss: 1.4503467082977295\n",
      "  batch 10 loss: 1.4506522417068481\n",
      "  batch 11 loss: 1.499268651008606\n",
      "LOSS train 1.4592776732011274 test 1.5047554969787598\n",
      "Total 55 Correct 30 Accuracy 54.54545593261719\n",
      "EPOCH 33:\n",
      "  batch 1 loss: 1.4500221014022827\n",
      "  batch 2 loss: 1.4999600648880005\n",
      "  batch 3 loss: 1.4506946802139282\n",
      "  batch 4 loss: 1.4992010593414307\n",
      "  batch 5 loss: 1.4994350671768188\n",
      "  batch 6 loss: 1.4989920854568481\n",
      "  batch 7 loss: 1.351364016532898\n",
      "  batch 8 loss: 1.4992797374725342\n",
      "  batch 9 loss: 1.4498755931854248\n",
      "  batch 10 loss: 1.4007471799850464\n",
      "  batch 11 loss: 1.4498155117034912\n",
      "LOSS train 1.4590351906689731 test 1.504567265510559\n",
      "Total 55 Correct 30 Accuracy 54.54545593261719\n",
      "EPOCH 34:\n",
      "  batch 1 loss: 1.4502577781677246\n",
      "  batch 2 loss: 1.4990417957305908\n",
      "  batch 3 loss: 1.4003578424453735\n",
      "  batch 4 loss: 1.5975143909454346\n",
      "  batch 5 loss: 1.4496968984603882\n",
      "  batch 6 loss: 1.4496982097625732\n",
      "  batch 7 loss: 1.4992009401321411\n",
      "  batch 8 loss: 1.4005969762802124\n",
      "  batch 9 loss: 1.3513298034667969\n",
      "  batch 10 loss: 1.4991261959075928\n",
      "  batch 11 loss: 1.450137972831726\n",
      "LOSS train 1.4588144367391414 test 1.5043865442276\n",
      "Total 55 Correct 30 Accuracy 54.54545593261719\n",
      "EPOCH 35:\n",
      "  batch 1 loss: 1.4494374990463257\n",
      "  batch 2 loss: 1.3511532545089722\n",
      "  batch 3 loss: 1.3511264324188232\n",
      "  batch 4 loss: 1.4002398252487183\n",
      "  batch 5 loss: 1.6471960544586182\n",
      "  batch 6 loss: 1.5974844694137573\n",
      "  batch 7 loss: 1.4000364542007446\n",
      "  batch 8 loss: 1.3509272336959839\n",
      "  batch 9 loss: 1.4989478588104248\n",
      "  batch 10 loss: 1.4498027563095093\n",
      "  batch 11 loss: 1.548391342163086\n",
      "LOSS train 1.458613016388633 test 1.5042215585708618\n",
      "Total 55 Correct 30 Accuracy 54.54545593261719\n",
      "EPOCH 36:\n",
      "  batch 1 loss: 1.4498298168182373\n",
      "  batch 2 loss: 1.4986282587051392\n",
      "  batch 3 loss: 1.4000307321548462\n",
      "  batch 4 loss: 1.4001508951187134\n",
      "  batch 5 loss: 1.4001288414001465\n",
      "  batch 6 loss: 1.5485146045684814\n",
      "  batch 7 loss: 1.5977771282196045\n",
      "  batch 8 loss: 1.3998039960861206\n",
      "  batch 9 loss: 1.4491779804229736\n",
      "  batch 10 loss: 1.498583197593689\n",
      "  batch 11 loss: 1.399944543838501\n",
      "LOSS train 1.458415454084223 test 1.5040706396102905\n",
      "Total 55 Correct 30 Accuracy 54.54545593261719\n",
      "EPOCH 37:\n",
      "  batch 1 loss: 1.4494147300720215\n",
      "  batch 2 loss: 1.3997790813446045\n",
      "  batch 3 loss: 1.5478688478469849\n",
      "  batch 4 loss: 1.4494917392730713\n",
      "  batch 5 loss: 1.547933578491211\n",
      "  batch 6 loss: 1.4494577646255493\n",
      "  batch 7 loss: 1.4984445571899414\n",
      "  batch 8 loss: 1.3996055126190186\n",
      "  batch 9 loss: 1.4493281841278076\n",
      "  batch 10 loss: 1.3998804092407227\n",
      "  batch 11 loss: 1.4493796825408936\n",
      "LOSS train 1.4582349170338025 test 1.5039278268814087\n",
      "Total 55 Correct 30 Accuracy 54.54545593261719\n",
      "EPOCH 38:\n",
      "  batch 1 loss: 1.4494268894195557\n",
      "  batch 2 loss: 1.4983690977096558\n",
      "  batch 3 loss: 1.4488723278045654\n",
      "  batch 4 loss: 1.3996959924697876\n",
      "  batch 5 loss: 1.5974977016448975\n",
      "  batch 6 loss: 1.3999987840652466\n",
      "  batch 7 loss: 1.3994407653808594\n",
      "  batch 8 loss: 1.4491899013519287\n",
      "  batch 9 loss: 1.4489071369171143\n",
      "  batch 10 loss: 1.350126028060913\n",
      "  batch 11 loss: 1.5972646474838257\n",
      "LOSS train 1.4580717520280317 test 1.5037959814071655\n",
      "Total 55 Correct 30 Accuracy 54.54545593261719\n",
      "EPOCH 39:\n",
      "  batch 1 loss: 1.4492446184158325\n",
      "  batch 2 loss: 1.4491366147994995\n",
      "  batch 3 loss: 1.3998806476593018\n",
      "  batch 4 loss: 1.448708176612854\n",
      "  batch 5 loss: 1.49808931350708\n",
      "  batch 6 loss: 1.3994547128677368\n",
      "  batch 7 loss: 1.4985169172286987\n",
      "  batch 8 loss: 1.448964238166809\n",
      "  batch 9 loss: 1.4979921579360962\n",
      "  batch 10 loss: 1.4487972259521484\n",
      "  batch 11 loss: 1.4983043670654297\n",
      "LOSS train 1.457917180928317 test 1.5036725997924805\n",
      "Total 55 Correct 30 Accuracy 54.54545593261719\n",
      "EPOCH 40:\n",
      "  batch 1 loss: 1.4487704038619995\n",
      "  batch 2 loss: 1.4490900039672852\n",
      "  batch 3 loss: 1.448743462562561\n",
      "  batch 4 loss: 1.498203158378601\n",
      "  batch 5 loss: 1.3992971181869507\n",
      "  batch 6 loss: 1.399171233177185\n",
      "  batch 7 loss: 1.4981414079666138\n",
      "  batch 8 loss: 1.3992774486541748\n",
      "  batch 9 loss: 1.44880211353302\n",
      "  batch 10 loss: 1.597166657447815\n",
      "  batch 11 loss: 1.4488040208816528\n",
      "LOSS train 1.4577697298743508 test 1.5035552978515625\n",
      "Total 55 Correct 30 Accuracy 54.54545593261719\n",
      "EPOCH 41:\n",
      "  batch 1 loss: 1.4488167762756348\n",
      "  batch 2 loss: 1.3990724086761475\n",
      "  batch 3 loss: 1.3993258476257324\n",
      "  batch 4 loss: 1.5475534200668335\n",
      "  batch 5 loss: 1.44882071018219\n",
      "  batch 6 loss: 1.5474793910980225\n",
      "  batch 7 loss: 1.4485266208648682\n",
      "  batch 8 loss: 1.4485677480697632\n",
      "  batch 9 loss: 1.4981135129928589\n",
      "  batch 10 loss: 1.399174690246582\n",
      "  batch 11 loss: 1.4485089778900146\n",
      "LOSS train 1.4576327367262407 test 1.503447413444519\n",
      "Total 55 Correct 30 Accuracy 54.54545593261719\n",
      "EPOCH 42:\n",
      "  batch 1 loss: 1.4977433681488037\n",
      "  batch 2 loss: 1.3989765644073486\n",
      "  batch 3 loss: 1.3993548154830933\n",
      "  batch 4 loss: 1.4485927820205688\n",
      "  batch 5 loss: 1.4981448650360107\n",
      "  batch 6 loss: 1.5477275848388672\n",
      "  batch 7 loss: 1.3988592624664307\n",
      "  batch 8 loss: 1.4980109930038452\n",
      "  batch 9 loss: 1.4978989362716675\n",
      "  batch 10 loss: 1.4483458995819092\n",
      "  batch 11 loss: 1.398910641670227\n",
      "LOSS train 1.4575059739026157 test 1.5033464431762695\n",
      "Total 55 Correct 30 Accuracy 54.54545593261719\n",
      "EPOCH 43:\n",
      "  batch 1 loss: 1.3493232727050781\n",
      "  batch 2 loss: 1.4977880716323853\n",
      "  batch 3 loss: 1.448325276374817\n",
      "  batch 4 loss: 1.4482390880584717\n",
      "  batch 5 loss: 1.498110294342041\n",
      "  batch 6 loss: 1.398959994316101\n",
      "  batch 7 loss: 1.3988730907440186\n",
      "  batch 8 loss: 1.498032569885254\n",
      "  batch 9 loss: 1.597096562385559\n",
      "  batch 10 loss: 1.4481767416000366\n",
      "  batch 11 loss: 1.4483414888381958\n",
      "LOSS train 1.4573878591710872 test 1.5032501220703125\n",
      "Total 55 Correct 30 Accuracy 54.54545593261719\n",
      "EPOCH 44:\n",
      "  batch 1 loss: 1.5969586372375488\n",
      "  batch 2 loss: 1.5968009233474731\n",
      "  batch 3 loss: 1.398690938949585\n",
      "  batch 4 loss: 1.3989486694335938\n",
      "  batch 5 loss: 1.3490759134292603\n",
      "  batch 6 loss: 1.398513913154602\n",
      "  batch 7 loss: 1.4482231140136719\n",
      "  batch 8 loss: 1.4480416774749756\n",
      "  batch 9 loss: 1.5474259853363037\n",
      "  batch 10 loss: 1.4484784603118896\n",
      "  batch 11 loss: 1.3988420963287354\n",
      "LOSS train 1.4572727571834216 test 1.5031609535217285\n",
      "Total 55 Correct 30 Accuracy 54.54545593261719\n",
      "EPOCH 45:\n",
      "  batch 1 loss: 1.3492224216461182\n",
      "  batch 2 loss: 1.4481818675994873\n",
      "  batch 3 loss: 1.3984744548797607\n",
      "  batch 4 loss: 1.398673176765442\n",
      "  batch 5 loss: 1.4482977390289307\n",
      "  batch 6 loss: 1.596679449081421\n",
      "  batch 7 loss: 1.3489075899124146\n",
      "  batch 8 loss: 1.6464955806732178\n",
      "  batch 9 loss: 1.398498773574829\n",
      "  batch 10 loss: 1.4978142976760864\n",
      "  batch 11 loss: 1.4976446628570557\n",
      "LOSS train 1.4571718194267966 test 1.503076195716858\n",
      "Total 55 Correct 30 Accuracy 54.54545593261719\n",
      "EPOCH 46:\n",
      "  batch 1 loss: 1.4480401277542114\n",
      "  batch 2 loss: 1.4484643936157227\n",
      "  batch 3 loss: 1.4976694583892822\n",
      "  batch 4 loss: 1.448330283164978\n",
      "  batch 5 loss: 1.3488482236862183\n",
      "  batch 6 loss: 1.4478206634521484\n",
      "  batch 7 loss: 1.5966918468475342\n",
      "  batch 8 loss: 1.3488121032714844\n",
      "  batch 9 loss: 1.497403860092163\n",
      "  batch 10 loss: 1.3983309268951416\n",
      "  batch 11 loss: 1.5473488569259644\n",
      "LOSS train 1.4570691585540771 test 1.5029977560043335\n",
      "Total 55 Correct 30 Accuracy 54.54545593261719\n",
      "EPOCH 47:\n",
      "  batch 1 loss: 1.5472115278244019\n",
      "  batch 2 loss: 1.3983882665634155\n",
      "  batch 3 loss: 1.3985509872436523\n",
      "  batch 4 loss: 1.4478753805160522\n",
      "  batch 5 loss: 1.3486839532852173\n",
      "  batch 6 loss: 1.398306131362915\n",
      "  batch 7 loss: 1.497595191001892\n",
      "  batch 8 loss: 1.3983964920043945\n",
      "  batch 9 loss: 1.3983039855957031\n",
      "  batch 10 loss: 1.695939302444458\n",
      "  batch 11 loss: 1.4974828958511353\n",
      "LOSS train 1.4569758285175671 test 1.5029220581054688\n",
      "Total 55 Correct 30 Accuracy 54.54545593261719\n",
      "EPOCH 48:\n",
      "  batch 1 loss: 1.49747633934021\n",
      "  batch 2 loss: 1.3982408046722412\n",
      "  batch 3 loss: 1.497187852859497\n",
      "  batch 4 loss: 1.398373007774353\n",
      "  batch 5 loss: 1.5471842288970947\n",
      "  batch 6 loss: 1.398162841796875\n",
      "  batch 7 loss: 1.4975426197052002\n",
      "  batch 8 loss: 1.3981873989105225\n",
      "  batch 9 loss: 1.5473264455795288\n",
      "  batch 10 loss: 1.3981273174285889\n",
      "  batch 11 loss: 1.4479186534881592\n",
      "LOSS train 1.4568843191320247 test 1.502850890159607\n",
      "Total 55 Correct 30 Accuracy 54.54545593261719\n",
      "EPOCH 49:\n",
      "  batch 1 loss: 1.3981759548187256\n",
      "  batch 2 loss: 1.447715163230896\n",
      "  batch 3 loss: 1.546864628791809\n",
      "  batch 4 loss: 1.5468358993530273\n",
      "  batch 5 loss: 1.39826238155365\n",
      "  batch 6 loss: 1.398254632949829\n",
      "  batch 7 loss: 1.4975088834762573\n",
      "  batch 8 loss: 1.4974621534347534\n",
      "  batch 9 loss: 1.348745584487915\n",
      "  batch 10 loss: 1.4971601963043213\n",
      "  batch 11 loss: 1.4478347301483154\n",
      "LOSS train 1.4568018371408635 test 1.5027837753295898\n",
      "Total 55 Correct 30 Accuracy 54.54545593261719\n",
      "EPOCH 50:\n",
      "  batch 1 loss: 1.4476654529571533\n",
      "  batch 2 loss: 1.4975486993789673\n",
      "  batch 3 loss: 1.4973183870315552\n",
      "  batch 4 loss: 1.3980791568756104\n",
      "  batch 5 loss: 1.4972689151763916\n",
      "  batch 6 loss: 1.4974987506866455\n",
      "  batch 7 loss: 1.3979684114456177\n",
      "  batch 8 loss: 1.447554349899292\n",
      "  batch 9 loss: 1.4478439092636108\n",
      "  batch 10 loss: 1.4476045370101929\n",
      "  batch 11 loss: 1.447596788406372\n",
      "LOSS train 1.4567224871028552 test 1.5027214288711548\n",
      "Total 55 Correct 30 Accuracy 54.54545593261719\n"
     ]
    }
   ],
   "source": [
    "epoch_number = 0\n",
    "\n",
    "EPOCHS = 50\n",
    "\n",
    "for epoch in range(EPOCHS):\n",
    "    print('EPOCH {}:'.format(epoch_number + 1))\n",
    "\n",
    "    # Make sure gradient tracking is on, and do a pass over the data\n",
    "    class_model.train(True)\n",
    "    avg_train_loss = train_one_epoch()\n",
    "\n",
    "\n",
    "    running_test_loss = 0.0\n",
    "    # Set the model to evaluation mode, disabling dropout and using population\n",
    "    # statistics for batch normalization.\n",
    "    class_model.eval()\n",
    "    correct = 0\n",
    "    total = 0\n",
    "    # Disable gradient computation and reduce memory consumption.\n",
    "    with torch.no_grad():\n",
    "        for i, test_data in enumerate(test_loader):\n",
    "            test_inputs, test_victim_nums = test_data\n",
    "            test_victim_nums = test_victim_nums.long().squeeze()\n",
    "            test_inputs = test_inputs.float()\n",
    "            test_outputs = class_model(test_inputs)\n",
    "            _, predicted = torch.max(test_outputs.data, 1)\n",
    "            total += test_victim_nums.size(0)\n",
    "            # Total correct predictions\n",
    "            correct += (predicted == test_victim_nums).sum()\n",
    "            # print(\"victim number {}\".format(total))\n",
    "            # print(\"Correct {}\".format(correct))\n",
    "            test_loss = class_loss_function(test_outputs, test_victim_nums)\n",
    "            running_test_loss += test_loss\n",
    "\n",
    "    accuracy = 100 * correct / total\n",
    "    avg_test_loss = running_test_loss / (i + 1)\n",
    "    print('LOSS train {} test {}'.format(avg_train_loss, avg_test_loss))\n",
    "    print('Total {} Correct {} Accuracy {}'.format(total, correct, accuracy))\n",
    "    epoch_number += 1"
   ]
  },
  {
   "cell_type": "markdown",
   "id": "84d2a304-6197-4cd9-b31e-745f7862f213",
   "metadata": {},
   "source": [
    "## Task 5"
   ]
  },
  {
   "cell_type": "markdown",
   "id": "d6e4ef16-d828-45e5-bd58-1c49fcfecf52",
   "metadata": {},
   "source": [
    "### Reflect on your results\n",
    "\n",
    "* Write a paragraph about your experience with tasks 3 and 4. How do you compare the results? Which one worked better? Why?\n",
    "* Write a piece of code that finds an example of a  miss-classification. Calculate the probabilities for the output classes and plot them in a bar chart. Also, indicate what is the correct class label."
   ]
  },
  {
   "cell_type": "markdown",
   "id": "ee7416e6-f1c0-4127-8c86-97cc37976c69",
   "metadata": {},
   "source": [
    "## Work for Task 5"
   ]
  },
  {
   "cell_type": "markdown",
   "id": "fe9f2da2-7473-49ad-aca0-119bc74cf760",
   "metadata": {},
   "source": [
    "From working with both model, task 3 is less challenging since we only have to calculate the loss after each epoch. Task 4 is a little bit more challenging, since we have to both minimize the loss as well as get a better accuracy. However, the output of the regression model from task 3 does not work very well with the result that we are trying to predict. One thing is that a person is a whole and it is impossible to have a decimal places amount of person. Although we can round the number, it does not work very well with this kind of task since the regression model use mean square error as its loss function. Assuming that we have data that are very bias in which most of the outcome is 0, eventhough we might come across the case in which there is a large amount of victims, the model will only update the parameter to minimize the mean square different. As a result, it will not work very well. On the other hand, treating this as a classification problems is better since the output of our model can be treated probability of the victims amount. As long as we have the right class number of victims, we can predict the amount of victims based on the class that has the highest probability. However, this model is limited to the amount of vicitims classes that we defined which mean it will not be able to predict the amount of victims that is higher than the amount of output classes that we predefined for the model. Overall, with the data that we have, the classification model work better than the regression one."
   ]
  },
  {
   "cell_type": "code",
   "execution_count": 45,
   "id": "390e697b-c57e-4a49-b257-3ac95e0e3a51",
   "metadata": {},
   "outputs": [],
   "source": [
    "for i, example in enumerate(test_loader):\n",
    "    x, y = example\n",
    "    break"
   ]
  },
  {
   "cell_type": "code",
   "execution_count": 46,
   "id": "5839098c-8457-4674-9fa0-fa8d87616a59",
   "metadata": {},
   "outputs": [],
   "source": [
    "index = 15"
   ]
  },
  {
   "cell_type": "code",
   "execution_count": 47,
   "id": "f8e24f1f-fd87-4cec-ae90-449f45cb771a",
   "metadata": {},
   "outputs": [],
   "source": [
    "output = class_model(x[index].float())"
   ]
  },
  {
   "cell_type": "code",
   "execution_count": 48,
   "id": "fcbbc33f-3365-4387-b2e8-0ff9ed1bc868",
   "metadata": {},
   "outputs": [],
   "source": [
    "_, predicted = torch.max(output.data, 0)"
   ]
  },
  {
   "cell_type": "code",
   "execution_count": 49,
   "id": "f3c5803d-573a-4021-89f3-cfcd5d21e8c9",
   "metadata": {},
   "outputs": [
    {
     "data": {
      "text/plain": [
       "tensor(0)"
      ]
     },
     "execution_count": 49,
     "metadata": {},
     "output_type": "execute_result"
    }
   ],
   "source": [
    "predicted"
   ]
  },
  {
   "cell_type": "code",
   "execution_count": 50,
   "id": "32b479d1-fd43-4e27-8cd8-f2952fefd6d6",
   "metadata": {},
   "outputs": [
    {
     "data": {
      "text/plain": [
       "tensor([1.], dtype=torch.float64)"
      ]
     },
     "execution_count": 50,
     "metadata": {},
     "output_type": "execute_result"
    }
   ],
   "source": [
    "y[index]"
   ]
  },
  {
   "cell_type": "code",
   "execution_count": 51,
   "id": "0bdacb31-5feb-4c06-8db5-cc9a35f96b9b",
   "metadata": {},
   "outputs": [
    {
     "data": {
      "text/plain": [
       "Text(0.5, 1.0, 'Model output victim number 0\\n Actual victim number 1')"
      ]
     },
     "execution_count": 51,
     "metadata": {},
     "output_type": "execute_result"
    },
    {
     "data": {
      "image/png": "[encoded data removed]",
      "text/plain": [
       "<Figure size 640x480 with 1 Axes>"
      ]
     },
     "metadata": {},
     "output_type": "display_data"
    }
   ],
   "source": [
    "ax = plt.subplot()\n",
    "ax.bar(range(7),output.detach().numpy())\n",
    "ax.set_xticks(range(7))\n",
    "plt.title(\"Model output victim number {}\\n Actual victim number {}\".format(predicted.item(), int(y[index].item())))\n"
   ]
  },
  {
   "cell_type": "markdown",
   "id": "5b000b0b-fa37-4f8d-8ec7-0a1e6e749424",
   "metadata": {},
   "source": [
    "## Task 6: Exploring the patterns in raw data\n",
    "\n",
    "* Plot the crime incidents as a `scatter` plot using the corrdinates. Use the color property of each datapoint to indicate the day of the week. Is there a pattern in the plot?\n",
    "* Now make a new scatter plot and use the color property of each datapoint to indicate the number of persons involved in the incident. Is there a pattern here?\n",
    "* use numpy (or pandas if you like) to sort the number of crimes reported by the day of the week. What days are most frequent?\n"
   ]
  },
  {
   "cell_type": "markdown",
   "id": "892f5973-1264-441c-a121-03973d5f82cb",
   "metadata": {},
   "source": [
    "## Work for Task 6"
   ]
  },
  {
   "cell_type": "code",
   "execution_count": 52,
   "id": "78209b67-5166-418a-9db0-8c0dc80cbc5d",
   "metadata": {},
   "outputs": [],
   "source": [
    "df2 = pd.read_csv('Data/LVMPD-Stats.csv', parse_dates=['ReportedOn'],\n",
    "                 usecols = ['X', 'Y', 'ReportedOn',\n",
    "                            'Area_Command','NIBRSOffenseCode',\n",
    "                            'VictimCount' ] )"
   ]
  },
  {
   "cell_type": "code",
   "execution_count": 53,
   "id": "f1e7a2db-d98f-4b71-9092-e8277b09c25e",
   "metadata": {},
   "outputs": [],
   "source": [
    "X = df2['X'].values\n",
    "Y = df2['Y'].values\n",
    "Z = df.values[:,4]\n",
    "\n"
   ]
  },
  {
   "cell_type": "code",
   "execution_count": 54,
   "id": "8d6529f5-1343-4060-ae87-1bb6f4af056f",
   "metadata": {},
   "outputs": [
    {
     "data": {
      "image/png": "[encoded data removed]",
      "text/plain": [
       "<Figure size 2000x2000 with 2 Axes>"
      ]
     },
     "metadata": {},
     "output_type": "display_data"
    }
   ],
   "source": [
    "plt.figure(figsize=(20, 20))\n",
    "scatter = plt.scatter(X, Y, c=Z, cmap='viridis')\n",
    "plt.colorbar(scatter, label='Z Value')\n",
    "\n",
    "plt.xlabel('X')\n",
    "plt.ylabel('Y')\n",
    "plt.title('Scatter Plot with day of week Values as Colors')\n",
    "plt.show()"
   ]
  },
  {
   "cell_type": "markdown",
   "id": "79b5d51c-32f5-4a8e-a4e9-e2af8216afca",
   "metadata": {},
   "source": [
    "From the raw data, we can see that crimes that happened on the early week day concentrated more on a particular area, whereas crimes that happened on the weekend happened all around the city. One reason of this might be because people are going out more all over the city on the weekend than during the week day where people mostly only go to work."
   ]
  },
  {
   "cell_type": "code",
   "execution_count": 55,
   "id": "9de9e7c7-4808-4d0a-8d63-17d2ec2d2154",
   "metadata": {},
   "outputs": [],
   "source": [
    "Z = df.values[:,6]"
   ]
  },
  {
   "cell_type": "code",
   "execution_count": 56,
   "id": "3cb30a45-3f2e-431e-9c89-88331778cc86",
   "metadata": {},
   "outputs": [
    {
     "data": {
      "image/png": "[encoded data removed]",
      "text/plain": [
       "<Figure size 2000x2000 with 2 Axes>"
      ]
     },
     "metadata": {},
     "output_type": "display_data"
    }
   ],
   "source": [
    "plt.figure(figsize=(20, 20))\n",
    "scatter = plt.scatter(X, Y, c=Z, cmap='viridis')\n",
    "plt.colorbar(scatter, label='Z Value')\n",
    "\n",
    "plt.xlabel('X')\n",
    "plt.ylabel('Y')\n",
    "plt.title('Scatter Plot with Victim Number Values as Colors')\n",
    "plt.show()"
   ]
  },
  {
   "cell_type": "markdown",
   "id": "3dea6e84-f4f9-43b3-a525-dee4549dd747",
   "metadata": {},
   "source": [
    "From this scatter plot, we can see that most of the crimes that happened all over the city involved 2 victims or less. Crimes that involved 3 people or more concentrated more on the upper right. There could be various reasons that can be drawn out from this data. One reason might be because those area might be more crowded or popular than other area. Another reason might also be because those area is not enforced very well by law enforcement. However, with just this data, we cannot make a direct conclusion that these reasons might be the case. More information is needed to draw a better and more precise reason of why this might be the case."
   ]
  },
  {
   "cell_type": "code",
   "execution_count": 57,
   "id": "81165ffa-cd20-4a77-86c2-ee1348d0c437",
   "metadata": {},
   "outputs": [],
   "source": [
    "days, crimes_count = np.unique(df.values[:,4], return_counts=True)"
   ]
  },
  {
   "cell_type": "code",
   "execution_count": 69,
   "id": "476f3408-b235-4292-935a-6d3ce090a41a",
   "metadata": {},
   "outputs": [
    {
     "data": {
      "text/plain": [
       "array([0., 1., 2., 3., 4., 5., 6.])"
      ]
     },
     "execution_count": 69,
     "metadata": {},
     "output_type": "execute_result"
    }
   ],
   "source": [
    "days"
   ]
  },
  {
   "cell_type": "code",
   "execution_count": 61,
   "id": "5442b2b0-1a34-4624-ba66-9342701b151f",
   "metadata": {},
   "outputs": [
    {
     "data": {
      "text/plain": [
       "array([40, 37, 32, 44, 51, 43, 28])"
      ]
     },
     "execution_count": 61,
     "metadata": {},
     "output_type": "execute_result"
    }
   ],
   "source": [
    "crimes_count"
   ]
  },
  {
   "cell_type": "code",
   "execution_count": 66,
   "id": "cae04236-77c8-4cbf-a916-cf0d647304d0",
   "metadata": {},
   "outputs": [],
   "source": [
    "dataset = pd.DataFrame({ \"DayOfWeek\":days, \"CrimesCount\": crimes_count})"
   ]
  },
  {
   "cell_type": "code",
   "execution_count": 67,
   "id": "af47a2c8-a061-4cc9-bd8a-61c337fbd4ad",
   "metadata": {},
   "outputs": [
    {
     "data": {
      "text/html": [
       "<div>\n",
       "<style scoped>\n",
       "    .dataframe tbody tr th:only-of-type {\n",
       "        vertical-align: middle;\n",
       "    }\n",
       "\n",
       "    .dataframe tbody tr th {\n",
       "        vertical-align: top;\n",
       "    }\n",
       "\n",
       "    .dataframe thead th {\n",
       "        text-align: right;\n",
       "    }\n",
       "</style>\n",
       "<table border=\"1\" class=\"dataframe\">\n",
       "  <thead>\n",
       "    <tr style=\"text-align: right;\">\n",
       "      <th></th>\n",
       "      <th>DayOfWeek</th>\n",
       "      <th>CrimesCount</th>\n",
       "    </tr>\n",
       "  </thead>\n",
       "  <tbody>\n",
       "    <tr>\n",
       "      <th>0</th>\n",
       "      <td>0.0</td>\n",
       "      <td>40</td>\n",
       "    </tr>\n",
       "    <tr>\n",
       "      <th>1</th>\n",
       "      <td>1.0</td>\n",
       "      <td>37</td>\n",
       "    </tr>\n",
       "    <tr>\n",
       "      <th>2</th>\n",
       "      <td>2.0</td>\n",
       "      <td>32</td>\n",
       "    </tr>\n",
       "    <tr>\n",
       "      <th>3</th>\n",
       "      <td>3.0</td>\n",
       "      <td>44</td>\n",
       "    </tr>\n",
       "    <tr>\n",
       "      <th>4</th>\n",
       "      <td>4.0</td>\n",
       "      <td>51</td>\n",
       "    </tr>\n",
       "    <tr>\n",
       "      <th>5</th>\n",
       "      <td>5.0</td>\n",
       "      <td>43</td>\n",
       "    </tr>\n",
       "    <tr>\n",
       "      <th>6</th>\n",
       "      <td>6.0</td>\n",
       "      <td>28</td>\n",
       "    </tr>\n",
       "  </tbody>\n",
       "</table>\n",
       "</div>"
      ],
      "text/plain": [
       "   DayOfWeek  CrimesCount\n",
       "0        0.0           40\n",
       "1        1.0           37\n",
       "2        2.0           32\n",
       "3        3.0           44\n",
       "4        4.0           51\n",
       "5        5.0           43\n",
       "6        6.0           28"
      ]
     },
     "execution_count": 67,
     "metadata": {},
     "output_type": "execute_result"
    }
   ],
   "source": [
    "dataset"
   ]
  },
  {
   "cell_type": "code",
   "execution_count": 71,
   "id": "7ed15e07-bd06-47fd-b228-b7d1c178e7a8",
   "metadata": {},
   "outputs": [
    {
     "data": {
      "text/html": [
       "<div>\n",
       "<style scoped>\n",
       "    .dataframe tbody tr th:only-of-type {\n",
       "        vertical-align: middle;\n",
       "    }\n",
       "\n",
       "    .dataframe tbody tr th {\n",
       "        vertical-align: top;\n",
       "    }\n",
       "\n",
       "    .dataframe thead th {\n",
       "        text-align: right;\n",
       "    }\n",
       "</style>\n",
       "<table border=\"1\" class=\"dataframe\">\n",
       "  <thead>\n",
       "    <tr style=\"text-align: right;\">\n",
       "      <th></th>\n",
       "      <th>DayOfWeek</th>\n",
       "      <th>CrimesCount</th>\n",
       "    </tr>\n",
       "  </thead>\n",
       "  <tbody>\n",
       "    <tr>\n",
       "      <th>6</th>\n",
       "      <td>6.0</td>\n",
       "      <td>28</td>\n",
       "    </tr>\n",
       "    <tr>\n",
       "      <th>2</th>\n",
       "      <td>2.0</td>\n",
       "      <td>32</td>\n",
       "    </tr>\n",
       "    <tr>\n",
       "      <th>1</th>\n",
       "      <td>1.0</td>\n",
       "      <td>37</td>\n",
       "    </tr>\n",
       "    <tr>\n",
       "      <th>0</th>\n",
       "      <td>0.0</td>\n",
       "      <td>40</td>\n",
       "    </tr>\n",
       "    <tr>\n",
       "      <th>5</th>\n",
       "      <td>5.0</td>\n",
       "      <td>43</td>\n",
       "    </tr>\n",
       "    <tr>\n",
       "      <th>3</th>\n",
       "      <td>3.0</td>\n",
       "      <td>44</td>\n",
       "    </tr>\n",
       "    <tr>\n",
       "      <th>4</th>\n",
       "      <td>4.0</td>\n",
       "      <td>51</td>\n",
       "    </tr>\n",
       "  </tbody>\n",
       "</table>\n",
       "</div>"
      ],
      "text/plain": [
       "   DayOfWeek  CrimesCount\n",
       "6        6.0           28\n",
       "2        2.0           32\n",
       "1        1.0           37\n",
       "0        0.0           40\n",
       "5        5.0           43\n",
       "3        3.0           44\n",
       "4        4.0           51"
      ]
     },
     "execution_count": 71,
     "metadata": {},
     "output_type": "execute_result"
    }
   ],
   "source": [
    "dataset.sort_values(by=['CrimesCount'])"
   ]
  },
  {
   "cell_type": "markdown",
   "id": "da5f5591-a923-406c-8c3b-ccc0695b95df",
   "metadata": {},
   "source": [
    "According to the data, Friday has the most reported amount of crime."
   ]
  }
 ],
 "metadata": {
  "kernelspec": {
   "display_name": "Python 3 (ipykernel)",
   "language": "python",
   "name": "python3"
  },
  "language_info": {
   "codemirror_mode": {
    "name": "ipython",
    "version": 3
   },
   "file_extension": ".py",
   "mimetype": "text/x-python",
   "name": "python",
   "nbconvert_exporter": "python",
   "pygments_lexer": "ipython3",
   "version": "3.11.4"
  }
 },
 "nbformat": 4,
 "nbformat_minor": 5
}
