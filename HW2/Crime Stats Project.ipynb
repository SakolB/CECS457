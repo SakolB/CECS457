{
 "cells": [
  {
   "cell_type": "markdown",
   "id": "55e6b918-afac-43e8-b338-43f8ac64014f",
   "metadata": {},
   "source": [
    "##  Deep Neural Networks Project"
   ]
  },
  {
   "cell_type": "markdown",
   "id": "1a8e066d-2849-4a6e-9c71-bb98d605ae07",
   "metadata": {},
   "source": [
    "In this project, you will be working with a real-world data set from the Las Vegas Metropolitan Police Department. The dataset  contains information about the reported incidents, including the time and location of the crime, type of incident, and number of persons involved. "
   ]
  },
  {
   "cell_type": "markdown",
   "id": "9e87fac7-352a-4c39-b087-76254b5e2743",
   "metadata": {},
   "source": [
    "The dataset is downloaded from the public docket at: \n",
    "https://opendata-lvmpd.hub.arcgis.com\n",
    "\n",
    "let's read the csv file and transform the data:"
   ]
  },
  {
   "cell_type": "code",
   "execution_count": 1,
   "id": "637211a4-582f-426b-a127-c3f284463f35",
   "metadata": {},
   "outputs": [],
   "source": [
    "import torch\n",
    "import pandas as pd\n",
    "from torch.utils.data import DataLoader, Dataset, TensorDataset, random_split\n",
    "import matplotlib.pyplot as plt\n",
    "import seaborn as sns\n",
    "import numpy as np"
   ]
  },
  {
   "cell_type": "code",
   "execution_count": 2,
   "id": "bcf40b02-80b6-4abc-a662-f7ed50a65181",
   "metadata": {},
   "outputs": [],
   "source": [
    "orig_df = pd.read_csv('Data/LVMPD-Stats.csv', parse_dates=['ReportedOn'])"
   ]
  },
  {
   "cell_type": "code",
   "execution_count": 3,
   "id": "e1ca1d15-3955-4971-a3c4-c1a73b62edda",
   "metadata": {},
   "outputs": [],
   "source": [
    "df = pd.read_csv('Data/LVMPD-Stats.csv', parse_dates=['ReportedOn'],\n",
    "                 usecols = ['X', 'Y', 'ReportedOn',\n",
    "                            'Area_Command','NIBRSOffenseCode',\n",
    "                            'VictimCount' ] )\n",
    "\n",
    "df['DayOfWeek'] = df['ReportedOn'].dt.day_name()\n",
    "df['Time' ]     = df['ReportedOn'].dt.hour\n",
    "df.drop(columns = 'ReportedOn', inplace=True)"
   ]
  },
  {
   "cell_type": "code",
   "execution_count": 4,
   "id": "3ddc413d-ba3f-4204-bc18-7fdd4de8d221",
   "metadata": {},
   "outputs": [],
   "source": [
    "\n",
    "df['X'] = df['X'] \n",
    "df['Y'] = df['Y'] \n",
    "df['Time'] = pd.factorize(df['Time'])[0]\n",
    "df['DayOfWeek'] = pd.factorize(df['DayOfWeek'])[0]\n",
    "df.Area_Command = pd.factorize(df['Area_Command'])[0]\n",
    "df.VictimCount = pd.factorize(df['VictimCount'])[0]\n",
    "df.NIBRSOffenseCode = pd.factorize(df['NIBRSOffenseCode'])[0]\n",
    "df.dropna(inplace=True)"
   ]
  },
  {
   "cell_type": "code",
   "execution_count": 5,
   "id": "a9c6162f-9686-4195-818d-950a6368c686",
   "metadata": {},
   "outputs": [],
   "source": [
    "df= df[['X', 'Y', 'Area_Command', 'NIBRSOffenseCode',\n",
    "       'DayOfWeek', 'Time','VictimCount']]"
   ]
  },
  {
   "cell_type": "code",
   "execution_count": 6,
   "id": "a90bc78a-6d1b-4fe4-a1b0-8333aec1c851",
   "metadata": {
    "scrolled": true
   },
   "outputs": [
    {
     "data": {
      "text/plain": [
       "(275, 7)"
      ]
     },
     "execution_count": 6,
     "metadata": {},
     "output_type": "execute_result"
    }
   ],
   "source": [
    "df.values.shape"
   ]
  },
  {
   "cell_type": "markdown",
   "id": "651605b1-8d2c-4d3e-a09e-9aef6e550fc6",
   "metadata": {},
   "source": [
    "# Goal\n",
    "The goal is to build a predictive model that is trained on the following data:\n",
    "* latitude and longitude (location)\n",
    "* Hour of the day\n",
    "* Day of the week\n",
    "* Area-of-command code: The police designation of the bureau of the operation.\n",
    "* Classification code for the crime committed\n",
    "  \n",
    "The predicted variable is the number of persons involved in the accident.\n"
   ]
  },
  {
   "cell_type": "markdown",
   "id": "0e54f0b8-83f9-4db9-88f9-f5a595342069",
   "metadata": {},
   "source": [
    "## Task 1\n",
    "* print a few rows of the values in the dataframe ``df`` and explain what each column of data means. \n",
    "* identify the input and target variables\n",
    "* what is the range of values in each column? Do you need to scale, shift or normalize your data? \n"
   ]
  },
  {
   "cell_type": "markdown",
   "id": "6aa10821-cf57-437b-98c9-df8ba4b9c678",
   "metadata": {},
   "source": [
    "## Work for task 1\n",
    "In order to print out the rows of the dataframe values, we can either slice the dataframe directly or we can slice out the dataframe values array "
   ]
  },
  {
   "cell_type": "code",
   "execution_count": 7,
   "id": "555901aa-1758-4a6b-9c2d-2a7f10d0fbe4",
   "metadata": {},
   "outputs": [
    {
     "data": {
      "text/html": [
       "<div>\n",
       "<style scoped>\n",
       "    .dataframe tbody tr th:only-of-type {\n",
       "        vertical-align: middle;\n",
       "    }\n",
       "\n",
       "    .dataframe tbody tr th {\n",
       "        vertical-align: top;\n",
       "    }\n",
       "\n",
       "    .dataframe thead th {\n",
       "        text-align: right;\n",
       "    }\n",
       "</style>\n",
       "<table border=\"1\" class=\"dataframe\">\n",
       "  <thead>\n",
       "    <tr style=\"text-align: right;\">\n",
       "      <th></th>\n",
       "      <th>X</th>\n",
       "      <th>Y</th>\n",
       "      <th>Area_Command</th>\n",
       "      <th>NIBRSOffenseCode</th>\n",
       "      <th>DayOfWeek</th>\n",
       "      <th>Time</th>\n",
       "      <th>VictimCount</th>\n",
       "    </tr>\n",
       "  </thead>\n",
       "  <tbody>\n",
       "    <tr>\n",
       "      <th>0</th>\n",
       "      <td>-115.087518</td>\n",
       "      <td>36.216702</td>\n",
       "      <td>0</td>\n",
       "      <td>0</td>\n",
       "      <td>0</td>\n",
       "      <td>0</td>\n",
       "      <td>0</td>\n",
       "    </tr>\n",
       "    <tr>\n",
       "      <th>1</th>\n",
       "      <td>-115.240172</td>\n",
       "      <td>36.189693</td>\n",
       "      <td>1</td>\n",
       "      <td>1</td>\n",
       "      <td>1</td>\n",
       "      <td>1</td>\n",
       "      <td>0</td>\n",
       "    </tr>\n",
       "    <tr>\n",
       "      <th>2</th>\n",
       "      <td>-115.143088</td>\n",
       "      <td>36.181329</td>\n",
       "      <td>2</td>\n",
       "      <td>1</td>\n",
       "      <td>2</td>\n",
       "      <td>0</td>\n",
       "      <td>1</td>\n",
       "    </tr>\n",
       "    <tr>\n",
       "      <th>3</th>\n",
       "      <td>-115.225014</td>\n",
       "      <td>36.117633</td>\n",
       "      <td>3</td>\n",
       "      <td>1</td>\n",
       "      <td>1</td>\n",
       "      <td>2</td>\n",
       "      <td>2</td>\n",
       "    </tr>\n",
       "    <tr>\n",
       "      <th>4</th>\n",
       "      <td>-115.176708</td>\n",
       "      <td>36.095967</td>\n",
       "      <td>4</td>\n",
       "      <td>1</td>\n",
       "      <td>1</td>\n",
       "      <td>3</td>\n",
       "      <td>0</td>\n",
       "    </tr>\n",
       "  </tbody>\n",
       "</table>\n",
       "</div>"
      ],
      "text/plain": [
       "            X          Y  Area_Command  NIBRSOffenseCode  DayOfWeek  Time  \\\n",
       "0 -115.087518  36.216702             0                 0          0     0   \n",
       "1 -115.240172  36.189693             1                 1          1     1   \n",
       "2 -115.143088  36.181329             2                 1          2     0   \n",
       "3 -115.225014  36.117633             3                 1          1     2   \n",
       "4 -115.176708  36.095967             4                 1          1     3   \n",
       "\n",
       "   VictimCount  \n",
       "0            0  \n",
       "1            0  \n",
       "2            1  \n",
       "3            2  \n",
       "4            0  "
      ]
     },
     "execution_count": 7,
     "metadata": {},
     "output_type": "execute_result"
    }
   ],
   "source": [
    "df[0:5]"
   ]
  },
  {
   "cell_type": "code",
   "execution_count": 8,
   "id": "bbc03506-c7e8-4d90-a2d5-f3aadbf19373",
   "metadata": {},
   "outputs": [
    {
     "data": {
      "text/plain": [
       "array([[-115.087518  ,   36.216702  ,    0.        ,    0.        ,\n",
       "           0.        ,    0.        ,    0.        ],\n",
       "       [-115.2401715 ,   36.189693  ,    1.        ,    1.        ,\n",
       "           1.        ,    1.        ,    0.        ],\n",
       "       [-115.14308839,   36.18132889,    2.        ,    1.        ,\n",
       "           2.        ,    0.        ,    1.        ],\n",
       "       [-115.22501367,   36.1176334 ,    3.        ,    1.        ,\n",
       "           1.        ,    2.        ,    2.        ],\n",
       "       [-115.176708  ,   36.095967  ,    4.        ,    1.        ,\n",
       "           1.        ,    3.        ,    0.        ]])"
      ]
     },
     "execution_count": 8,
     "metadata": {},
     "output_type": "execute_result"
    }
   ],
   "source": [
    "df.values[0:5]"
   ]
  },
  {
   "cell_type": "markdown",
   "id": "19f0ac2e-bf50-49a5-9a23-2631aadce3c0",
   "metadata": {},
   "source": [
    "In each columns, we have the data for a specific crime that was reported to the Las Vegas Metropolitan Police Departments. Those data include the Longitude or X(first column), Latitude or Y(second column), Area of Command which is converted into int instead from starting from zero(third column), NIBRS Offense Code which is also converted into int starting from zero(fourth column), Day of week (fifth column, converted as well), Time which is represented in the hour of the day(sixth column), and lastly the victim count(last column)."
   ]
  },
  {
   "cell_type": "markdown",
   "id": "c073048e-60e9-4da8-9f7a-884f79d01593",
   "metadata": {},
   "source": [
    "The input data that we will be using for this model will be the data from the first to the sixth column. The victim count which is the data in the last column will be our output of the model since it is what we are trying to predict."
   ]
  },
  {
   "cell_type": "markdown",
   "id": "90fb5f83-2101-4626-8e7d-ec2b0c4f22ca",
   "metadata": {},
   "source": [
    "To find the range of values in each column we can use the max and min on each column of the df values"
   ]
  },
  {
   "cell_type": "markdown",
   "id": "e5238529-0ca1-49dc-bbad-40d36db44d3c",
   "metadata": {},
   "source": [
    "The range of value of the longitude column can be found by the below code."
   ]
  },
  {
   "cell_type": "code",
   "execution_count": 9,
   "id": "67154aa7-7079-4c9d-b6e0-e45a6637e4b8",
   "metadata": {},
   "outputs": [
    {
     "data": {
      "text/plain": [
       "(-114.6255705, -116.0)"
      ]
     },
     "execution_count": 9,
     "metadata": {},
     "output_type": "execute_result"
    }
   ],
   "source": [
    "longitude_max = max(df.values[:, 0])\n",
    "longitude_min = min(df.values[:,0])\n",
    "longitude_max, longitude_min"
   ]
  },
  {
   "cell_type": "markdown",
   "id": "73a4512f-f083-4d64-bf93-a5d0099053af",
   "metadata": {},
   "source": [
    "The range of value of latitude column can be found by the below code."
   ]
  },
  {
   "cell_type": "code",
   "execution_count": 10,
   "id": "d6a83884-bd39-4e35-954f-0d4ed5dc3432",
   "metadata": {},
   "outputs": [
    {
     "data": {
      "text/plain": [
       "(37.0000000000001, 35.0684190000001)"
      ]
     },
     "execution_count": 10,
     "metadata": {},
     "output_type": "execute_result"
    }
   ],
   "source": [
    "latitude_max = max(df.values[:, 1])\n",
    "latitude_min = min(df.values[:,1])\n",
    "latitude_max, latitude_min"
   ]
  },
  {
   "cell_type": "markdown",
   "id": "41a610cb-ef0b-4949-9a2d-7396eccaccfe",
   "metadata": {},
   "source": [
    "The range of value of the Area of Command column can be found by the below code."
   ]
  },
  {
   "cell_type": "code",
   "execution_count": 11,
   "id": "697ce9b7-739a-4258-9301-7562d4a37875",
   "metadata": {},
   "outputs": [
    {
     "data": {
      "text/plain": [
       "(11.0, 0.0)"
      ]
     },
     "execution_count": 11,
     "metadata": {},
     "output_type": "execute_result"
    }
   ],
   "source": [
    "AOC_max = max(df.values[:, 2])\n",
    "AOC_min = min(df.values[:,2])\n",
    "AOC_max, AOC_min"
   ]
  },
  {
   "cell_type": "markdown",
   "id": "a9bb85df-37ca-4169-a867-de5f92bc3c9a",
   "metadata": {},
   "source": [
    "The range of value of the NIBRS Offense Code column can be found by the below code."
   ]
  },
  {
   "cell_type": "code",
   "execution_count": 12,
   "id": "03e84669-08cb-4a18-8b36-41c265954465",
   "metadata": {},
   "outputs": [
    {
     "data": {
      "text/plain": [
       "(2.0, 0.0)"
      ]
     },
     "execution_count": 12,
     "metadata": {},
     "output_type": "execute_result"
    }
   ],
   "source": [
    "NOC_max = max(df.values[:, 3])\n",
    "NOC_min = min(df.values[:,3])\n",
    "NOC_max, NOC_min"
   ]
  },
  {
   "cell_type": "markdown",
   "id": "5cc10705-cac2-4dfc-b48d-5f78fdd889e0",
   "metadata": {},
   "source": [
    "The range of value of the Day of the Week column can be found by the below code."
   ]
  },
  {
   "cell_type": "code",
   "execution_count": 13,
   "id": "9e35dbc9-4c4a-4a51-930f-fadac40a54d4",
   "metadata": {},
   "outputs": [
    {
     "data": {
      "text/plain": [
       "(6.0, 0.0)"
      ]
     },
     "execution_count": 13,
     "metadata": {},
     "output_type": "execute_result"
    }
   ],
   "source": [
    "DOW_max = max(df.values[:, 4])\n",
    "DOW_min = min(df.values[:,4])\n",
    "DOW_max, DOW_min"
   ]
  },
  {
   "cell_type": "markdown",
   "id": "2163b0c2-07f0-4ed8-a9e4-aea4bdc1043b",
   "metadata": {},
   "source": [
    "The range of value of the Time column can be found by the below code."
   ]
  },
  {
   "cell_type": "code",
   "execution_count": 14,
   "id": "8768a6bd-1fc1-4fbb-949c-cc2e0b1c7732",
   "metadata": {},
   "outputs": [
    {
     "data": {
      "text/plain": [
       "(23.0, 0.0)"
      ]
     },
     "execution_count": 14,
     "metadata": {},
     "output_type": "execute_result"
    }
   ],
   "source": [
    "Time_max = max(df.values[:, 5])\n",
    "Time_min = min(df.values[:,5])\n",
    "Time_max, Time_min"
   ]
  },
  {
   "cell_type": "markdown",
   "id": "8ecea16d-130a-4502-877a-bbc03afcb519",
   "metadata": {},
   "source": [
    "The range of value of the Number of victim column can be found by the below code."
   ]
  },
  {
   "cell_type": "code",
   "execution_count": 15,
   "id": "105f291b-e07e-4344-9029-7bd316f38841",
   "metadata": {},
   "outputs": [
    {
     "data": {
      "text/plain": [
       "(6.0, 0.0)"
      ]
     },
     "execution_count": 15,
     "metadata": {},
     "output_type": "execute_result"
    }
   ],
   "source": [
    "NoVictim_max = max(df.values[:, 6])\n",
    "NoVictim_min = min(df.values[:,6])\n",
    "NoVictim_max, NoVictim_min"
   ]
  },
  {
   "cell_type": "markdown",
   "id": "a067a2f5-221c-4c12-a22c-40c9d4f5d816",
   "metadata": {},
   "source": [
    "From the range that we obtained from each column, we can see that only the latitude and longitude values may need to be normalized due to the fact that they both are significantly larger number than the number in the other column which might make it more difficult for the model to adjust the weight and bias since the output that we expect are int value from 0 to 6."
   ]
  },
  {
   "cell_type": "markdown",
   "id": "79f7e7bb-fa55-43a1-9998-fb597d0f9084",
   "metadata": {},
   "source": [
    "One way of normalizing the data is using the min-max normalization. The min-max normalization within a range of [a,b] can be done by the following formula."
   ]
  },
  {
   "cell_type": "markdown",
   "id": "81f2c917-4074-4b7e-9bfe-23c88390c800",
   "metadata": {},
   "source": [
    "$x_{\\text{norm}}$ = $a + \\frac{(x-x_{\\text{min})}(b-a)}{{x_{\\text{max}}-x_{\\text{min}}}}$"
   ]
  },
  {
   "cell_type": "markdown",
   "id": "2dddc9c4-033f-4c2a-986c-a28a19c55f70",
   "metadata": {},
   "source": [
    "Let set our range from 0 to 10 for the range of longitude and latitude normalization scale. Using the above formula we can scale our longitude and latitude accordingly."
   ]
  },
  {
   "cell_type": "code",
   "execution_count": 16,
   "id": "b1019816-1c9c-4b81-96e3-37ca3bfccae6",
   "metadata": {},
   "outputs": [],
   "source": [
    "df['X'] = ((df['X']-df['X'].min())*10)/(df['X'].max()-df['X'].min())"
   ]
  },
  {
   "cell_type": "markdown",
   "id": "3963135f-1b45-4ffb-a4bb-73adc85fc92b",
   "metadata": {},
   "source": [
    "To verify the result, we can print out the longitude data, and the min-max value after the normalization."
   ]
  },
  {
   "cell_type": "code",
   "execution_count": 17,
   "id": "37967a37-97f2-46af-898d-a8625d0808d7",
   "metadata": {},
   "outputs": [
    {
     "data": {
      "text/plain": [
       "0      6.638987\n",
       "1      5.528319\n",
       "2      6.234671\n",
       "3      5.638604\n",
       "4      5.990064\n",
       "         ...   \n",
       "270    6.440938\n",
       "271    6.688131\n",
       "272    6.023787\n",
       "273    6.165521\n",
       "274    6.836695\n",
       "Name: X, Length: 275, dtype: float64"
      ]
     },
     "execution_count": 17,
     "metadata": {},
     "output_type": "execute_result"
    }
   ],
   "source": [
    "df['X']"
   ]
  },
  {
   "cell_type": "code",
   "execution_count": 18,
   "id": "2882040b-ebde-4084-a57d-dc5c2ff4c34b",
   "metadata": {},
   "outputs": [
    {
     "data": {
      "text/plain": [
       "[0.0, 10.0]"
      ]
     },
     "execution_count": 18,
     "metadata": {},
     "output_type": "execute_result"
    }
   ],
   "source": [
    "[df['X'].min(), df['X'].max()]"
   ]
  },
  {
   "cell_type": "markdown",
   "id": "409dc90a-22f0-40fd-901f-27ed6bf98bf7",
   "metadata": {},
   "source": [
    "Repeat the same process for the latitude."
   ]
  },
  {
   "cell_type": "code",
   "execution_count": 19,
   "id": "94a0ee83-3dc4-470b-af1a-edc5c6e00c4c",
   "metadata": {},
   "outputs": [],
   "source": [
    "df['Y'] = ((df['Y']-df['Y'].min())*10)/(df['Y'].max()-df['Y'].min())"
   ]
  },
  {
   "cell_type": "code",
   "execution_count": 20,
   "id": "3794f115-6560-4ab6-a99f-ab5baf3cc1cc",
   "metadata": {},
   "outputs": [
    {
     "data": {
      "text/plain": [
       "0      5.944783\n",
       "1      5.804955\n",
       "2      5.761653\n",
       "3      5.431894\n",
       "4      5.319725\n",
       "         ...   \n",
       "270    5.442034\n",
       "271    5.664940\n",
       "272    5.459740\n",
       "273    5.164962\n",
       "274    5.533688\n",
       "Name: Y, Length: 275, dtype: float64"
      ]
     },
     "execution_count": 20,
     "metadata": {},
     "output_type": "execute_result"
    }
   ],
   "source": [
    "df['Y']"
   ]
  },
  {
   "cell_type": "code",
   "execution_count": 21,
   "id": "78b4c922-c465-4b2b-b71f-7c94cdd22729",
   "metadata": {},
   "outputs": [
    {
     "data": {
      "text/plain": [
       "[0.0, 10.0]"
      ]
     },
     "execution_count": 21,
     "metadata": {},
     "output_type": "execute_result"
    }
   ],
   "source": [
    "[df['Y'].min(), df['Y'].max()]"
   ]
  },
  {
   "cell_type": "markdown",
   "id": "5549ecc9-3c0b-4efa-9a1f-340a25a1e4be",
   "metadata": {},
   "source": [
    "## Task 2 \n",
    "\n",
    "* Create two `DataLoader` objects for training and testing based on the input and output variables. Pick a reasonable batch size and verify the shape of data by iterating over the one dataset and printing the shape of the batched data. "
   ]
  },
  {
   "cell_type": "markdown",
   "id": "37efc7c5-bdc2-47b8-a1ee-964e13d968d5",
   "metadata": {},
   "source": [
    "## Work for Task 2"
   ]
  },
  {
   "cell_type": "markdown",
   "id": "62ab4bda-4972-43e2-9a82-af5d4ab3fea8",
   "metadata": {},
   "source": [
    "In order to create a dataset object we need to 2 tensor for the input and output. Therefore, we need to create the two tensor object from the dataframe values array."
   ]
  },
  {
   "cell_type": "code",
   "execution_count": 22,
   "id": "97f3e399-f2eb-4203-bb88-d7793d57bdbe",
   "metadata": {},
   "outputs": [],
   "source": [
    "input_tensor = torch.tensor(df.values[:,0:6])"
   ]
  },
  {
   "cell_type": "code",
   "execution_count": 23,
   "id": "f238c418-b7cb-42f2-9bdd-431b3af414d0",
   "metadata": {},
   "outputs": [],
   "source": [
    "output_tensor = torch.tensor(df.values[:,6:7])"
   ]
  },
  {
   "cell_type": "code",
   "execution_count": 24,
   "id": "e7702167-2379-4df4-8c01-08b43c61e075",
   "metadata": {},
   "outputs": [],
   "source": [
    "dataset = TensorDataset(input_tensor, output_tensor)"
   ]
  },
  {
   "cell_type": "markdown",
   "id": "e460fe4c-d65b-499f-83ed-fbf44c9d04ed",
   "metadata": {},
   "source": [
    "In order to split the data into training and testing data, we can use random_split function from torch library. In this case, we will split the data into a 80% training data and 20% testing data. However, the random_split function take the length of the two resulting tensor as input instead of percentage, therefore we will need to calculate the length of 80% of our dataset and the rest of will be the other 20%."
   ]
  },
  {
   "cell_type": "code",
   "execution_count": 25,
   "id": "1fc290a6-c871-4573-8d3f-1416fc0ce075",
   "metadata": {},
   "outputs": [],
   "source": [
    "train_size = int(0.8 * len(dataset))\n",
    "test_size = len(dataset) - train_size"
   ]
  },
  {
   "cell_type": "code",
   "execution_count": 26,
   "id": "bc2474d9-cd15-4296-9329-7e7a31047351",
   "metadata": {},
   "outputs": [],
   "source": [
    "train_data, test_data = random_split(dataset, [train_size, test_size])"
   ]
  },
  {
   "cell_type": "code",
   "execution_count": 27,
   "id": "62c69591-17d7-4a2a-afbe-2cc9053b00b1",
   "metadata": {},
   "outputs": [],
   "source": [
    "train_loader = DataLoader(train_data, shuffle=True, batch_size=20)\n",
    "test_loader = DataLoader(test_data, shuffle=False, batch_size=20)"
   ]
  },
  {
   "cell_type": "code",
   "execution_count": 28,
   "id": "1f3b3446-b6ff-4179-a165-d60ca10bf1bb",
   "metadata": {},
   "outputs": [
    {
     "data": {
      "text/plain": [
       "220"
      ]
     },
     "execution_count": 28,
     "metadata": {},
     "output_type": "execute_result"
    }
   ],
   "source": [
    "train_size"
   ]
  },
  {
   "cell_type": "markdown",
   "id": "1fb6f08c-5e70-4b14-b62c-4686d9f7aace",
   "metadata": {},
   "source": [
    "## Task 3\n",
    "In this task you will try to predict number of crime victims as a **real number**. Therefore the machine learning problem is a **regression** problem. \n",
    "\n",
    "* Define the proper loss function for this task\n",
    "* what should the size of the predicted output be?\n",
    "* explain your choice of architecture, including how many layers you will be using\n",
    "* define an optimizer for training this model, choose a proper learning rate \n",
    "* write a training loop that obtains a batch out of the  training data and calculates the forward and backward passes over the neural network. Call the optimizer to update the weights of the neural network.\n",
    "* write a for loop that continues the training over a number of epochs. At the end of each epoch, calculate the ``MSE`` error on the test data and print it.\n",
    "* is your model training well? Adjust the learning rate, hidden size of the network, and try different activation functions and number of layers to achieve the best accuracy and report it. "
   ]
  },
  {
   "cell_type": "markdown",
   "id": "158a0a5b-0fa4-40a5-b6df-c74a9015ecfc",
   "metadata": {},
   "source": [
    "## Work for Task 3"
   ]
  },
  {
   "cell_type": "code",
   "execution_count": 29,
   "id": "d5cc7bd3-6302-489e-8d4e-4b6b6d5bc9a1",
   "metadata": {},
   "outputs": [],
   "source": [
    "import torch.nn as nn"
   ]
  },
  {
   "cell_type": "markdown",
   "id": "a8d19204-7c9c-4a6f-9706-d85a681a6e1d",
   "metadata": {},
   "source": [
    "We can create a NeuralNetwork class for this model with 3 activation layer and 2 hidden layer by inheriting the nn.Module class. For this model we will use ReLU as our activation functions since the output will be one continous values."
   ]
  },
  {
   "cell_type": "code",
   "execution_count": 30,
   "id": "78c7bcc5-c176-4561-8e30-146b4d70c667",
   "metadata": {},
   "outputs": [],
   "source": [
    "class NNModel(nn.Module):\n",
    "    def __init__(self, inputDim, hiddenDim, outputDim):\n",
    "        super(NNModel, self).__init__()\n",
    "        self.activation1 = nn.ReLU()\n",
    "        self.activation2 = nn.ReLU()\n",
    "        self.activation3 = nn.ReLU()\n",
    "\n",
    "        self.layer1 = nn.Linear(inputDim, hiddenDim)\n",
    "        self.layer2 = nn.Linear(hiddenDim, hiddenDim)\n",
    "        self.layer3 = nn.Linear(hiddenDim, outputDim)\n",
    "\n",
    "    def forward(self, x):\n",
    "        ffw1 = self.activation1(self.layer1(x))\n",
    "        ffw2 = self.activation2(self.layer2(ffw1))\n",
    "        output = self.activation3(self.layer3(ffw2))\n",
    "        return output"
   ]
  },
  {
   "cell_type": "markdown",
   "id": "838baf63-6b18-4e2c-a9b0-76e21ec8f393",
   "metadata": {},
   "source": [
    "Our model will have 6 inputs and 1 output."
   ]
  },
  {
   "cell_type": "code",
   "execution_count": 31,
   "id": "f88db26c-dc97-4df1-aa73-d6f5956d6aec",
   "metadata": {},
   "outputs": [],
   "source": [
    "model = NNModel(6, 10, 1)"
   ]
  },
  {
   "cell_type": "code",
   "execution_count": 32,
   "id": "0b5176a1-a17e-48f8-a7c4-7b7139b6efce",
   "metadata": {},
   "outputs": [
    {
     "data": {
      "text/plain": [
       "NNModel(\n",
       "  (activation1): ReLU()\n",
       "  (activation2): ReLU()\n",
       "  (activation3): ReLU()\n",
       "  (layer1): Linear(in_features=6, out_features=10, bias=True)\n",
       "  (layer2): Linear(in_features=10, out_features=10, bias=True)\n",
       "  (layer3): Linear(in_features=10, out_features=1, bias=True)\n",
       ")"
      ]
     },
     "execution_count": 32,
     "metadata": {},
     "output_type": "execute_result"
    }
   ],
   "source": [
    "model"
   ]
  },
  {
   "cell_type": "markdown",
   "id": "5950681b-ff13-41b8-a68c-a45fdb93081f",
   "metadata": {},
   "source": [
    "For this model we will use mean square error as our loss function since the output is a continous value. We will also use Adam as our optimizer with a learning rate of 0.01."
   ]
  },
  {
   "cell_type": "code",
   "execution_count": 33,
   "id": "9873c8ef-7927-4094-9536-f2984fd97f63",
   "metadata": {},
   "outputs": [],
   "source": [
    "loss_function = nn.MSELoss()"
   ]
  },
  {
   "cell_type": "code",
   "execution_count": 34,
   "id": "0c8df7b6-1ae6-49f6-8d4f-727234ed0752",
   "metadata": {},
   "outputs": [],
   "source": [
    "optimizer = torch.optim.Adam(model.parameters(), lr=0.01)"
   ]
  },
  {
   "cell_type": "code",
   "execution_count": 35,
   "id": "adea941d-db33-4a6b-a324-cc49dc4c38cc",
   "metadata": {},
   "outputs": [
    {
     "name": "stdout",
     "output_type": "stream",
     "text": [
      "Average test loss after epoch 1: 0.9259856939315796\n",
      "Average test loss after epoch 2: 0.9283788800239563\n",
      "Average test loss after epoch 3: 0.9324848651885986\n",
      "Average test loss after epoch 4: 0.9425858855247498\n",
      "Average test loss after epoch 5: 0.912269651889801\n",
      "Average test loss after epoch 6: 0.9259772896766663\n",
      "Average test loss after epoch 7: 0.9355857968330383\n",
      "Average test loss after epoch 8: 0.9515304565429688\n",
      "Average test loss after epoch 9: 0.9563455581665039\n",
      "Average test loss after epoch 10: 0.8778977990150452\n",
      "Average test loss after epoch 11: 0.915543794631958\n",
      "Average test loss after epoch 12: 0.8958040475845337\n",
      "Average test loss after epoch 13: 0.9220468997955322\n",
      "Average test loss after epoch 14: 0.879441499710083\n",
      "Average test loss after epoch 15: 0.8701134324073792\n",
      "Average test loss after epoch 16: 0.8816087245941162\n",
      "Average test loss after epoch 17: 0.8125134110450745\n",
      "Average test loss after epoch 18: 0.9081889986991882\n",
      "Average test loss after epoch 19: 0.8897096514701843\n",
      "Average test loss after epoch 20: 0.8230377435684204\n"
     ]
    }
   ],
   "source": [
    "num_epoch = 20\n",
    "iter = 0\n",
    "for epoch in range(num_epoch):\n",
    "    for num, (inputs, victim_nums) in enumerate(train_loader):\n",
    "        inputs = inputs.requires_grad_()\n",
    "        optimizer.zero_grad()\n",
    "        predictions = model(inputs.float())\n",
    "        loss = loss_function(predictions, victim_nums.float())\n",
    "        loss.backward()\n",
    "        optimizer.step()\n",
    "    iter+=1\n",
    "    total_loss = 0\n",
    "    for i, (inputs, victim_nums) in enumerate(test_loader):\n",
    "        inputs = inputs.requires_grad_()\n",
    "        predictions = model(inputs.float())\n",
    "        loss = loss_function(predictions, victim_nums.float())\n",
    "        total_loss +=loss\n",
    "    average_loss = total_loss/(test_size/20)\n",
    "    print(\"Average test loss after epoch {}: {}\".format(iter, average_loss))\n",
    "        \n",
    "    "
   ]
  },
  {
   "cell_type": "code",
   "execution_count": 36,
   "id": "a44dceec-563c-404a-a325-415685d9382e",
   "metadata": {},
   "outputs": [],
   "source": [
    "for i, example in enumerate(test_loader):\n",
    "    x, y = example\n",
    "    break"
   ]
  },
  {
   "cell_type": "code",
   "execution_count": 37,
   "id": "66ee834d-427b-4519-950d-19df6850235f",
   "metadata": {
    "scrolled": true
   },
   "outputs": [
    {
     "data": {
      "text/plain": [
       "tensor([[0.6534],\n",
       "        [0.6610],\n",
       "        [0.5579],\n",
       "        [0.6030],\n",
       "        [0.7755],\n",
       "        [0.9758],\n",
       "        [0.6214],\n",
       "        [0.7511],\n",
       "        [0.6755],\n",
       "        [0.9836],\n",
       "        [0.5606],\n",
       "        [0.7004],\n",
       "        [0.5090],\n",
       "        [0.5622],\n",
       "        [0.7023],\n",
       "        [1.2462],\n",
       "        [0.6454],\n",
       "        [1.1644],\n",
       "        [0.5591],\n",
       "        [0.5875]], grad_fn=<ReluBackward0>)"
      ]
     },
     "execution_count": 37,
     "metadata": {},
     "output_type": "execute_result"
    }
   ],
   "source": [
    "model(x.float())"
   ]
  },
  {
   "cell_type": "code",
   "execution_count": 38,
   "id": "02913098-33cf-429b-8f8d-8f783ff1d940",
   "metadata": {},
   "outputs": [
    {
     "data": {
      "text/plain": [
       "tensor([[1.],\n",
       "        [0.],\n",
       "        [1.],\n",
       "        [0.],\n",
       "        [0.],\n",
       "        [0.],\n",
       "        [0.],\n",
       "        [0.],\n",
       "        [0.],\n",
       "        [0.],\n",
       "        [0.],\n",
       "        [0.],\n",
       "        [0.],\n",
       "        [0.],\n",
       "        [0.],\n",
       "        [3.],\n",
       "        [1.],\n",
       "        [3.],\n",
       "        [0.],\n",
       "        [1.]], dtype=torch.float64)"
      ]
     },
     "execution_count": 38,
     "metadata": {},
     "output_type": "execute_result"
    }
   ],
   "source": [
    "y"
   ]
  },
  {
   "cell_type": "markdown",
   "id": "86e3fc70-c6ce-4589-9930-128951290e8d",
   "metadata": {},
   "source": [
    "## Task 4 \n",
    "\n",
    "In this task, you will try to predict the number of crime victims as a **class number**. Therefore the machine learning problem is a **classification** problem. \n",
    "\n",
    "* Repeat all the steps in task 3. Specifically, pay attention to the differences with regression.\n",
    "* How would you find the number of classes on the output data?\n",
    "* How is the architecture different?\n",
    "* How is the loss function different?\n",
    "* Calculate the Accuracy for test data as the number of correct classified outputs divided by the total number of test data in each epoch. Report it at the end of each epoch\n",
    "* Try a few variations of learning rate, hidden dimensions, layers, etc. What is the best accuracy that you can get? "
   ]
  },
  {
   "cell_type": "markdown",
   "id": "71781bcb-ce4d-40cb-9969-a8217999639a",
   "metadata": {},
   "source": [
    "## Work for Task 4"
   ]
  },
  {
   "cell_type": "markdown",
   "id": "bf672dc5-b518-44fe-bc54-e30665b0b48e",
   "metadata": {},
   "source": [
    "Since there are at most 6 victims and at least 0 victims, we can create 7 classes, 1 for each number from 0 to 6. Let's define a neural network class model for the classification problem. In this model, we will have 4 activation layers and 5 hidden layers. Each layer will be activated by a Sigmoid function since it is a classification model."
   ]
  },
  {
   "cell_type": "code",
   "execution_count": 39,
   "id": "c4eb02cc-b52d-4dc1-90eb-15686863026a",
   "metadata": {},
   "outputs": [],
   "source": [
    "class NNClassModel(nn.Module):\n",
    "    def __init__(self, inputdim, hiddendim, outputdim):\n",
    "        super(NNClassModel, self).__init__()\n",
    "        self.layer1 = nn.Linear(inputdim, hiddendim)\n",
    "        self.layer2 = nn.Linear(hiddendim, hiddendim)\n",
    "        self.layer3 = nn.Linear(hiddendim, hiddendim)\n",
    "        self.layer4 = nn.Linear(hiddendim, outputdim)\n",
    "        self.activation1 = nn.Sigmoid()\n",
    "        self.activation2 = nn.Sigmoid()\n",
    "        self.activation3 = nn.Sigmoid()\n",
    "        self.activation4 = nn.Sigmoid()\n",
    "    def forward(self, x):\n",
    "        ffw1 = self.activation1(self.layer1(x))\n",
    "        ffw2 = self.activation2(self.layer2(ffw1))\n",
    "        ffw3 = self.activation3(self.layer3(ffw2))\n",
    "        output = self.activation4(self.layer4(ffw3))\n",
    "        return output"
   ]
  },
  {
   "cell_type": "markdown",
   "id": "f70d4046-1c60-4522-8e22-47b6294d795b",
   "metadata": {},
   "source": [
    "We can find the class based on the victim numbers on our dataset. We found out from earlier that our victim numbers data has a max of 6 and a min of 0. Since the number of victim is discrete, there should be a total of 7 class ranging from 0 to 6."
   ]
  },
  {
   "cell_type": "markdown",
   "id": "5624ed2f-3955-47fa-97e6-9ab6eb50f574",
   "metadata": {},
   "source": [
    "We'll have the number of hidden dimension in each layer 42 since it provide the best accuracy overall among all the amount that were tested."
   ]
  },
  {
   "cell_type": "code",
   "execution_count": 40,
   "id": "c55b564a-51bf-4f40-b89b-ce80910c56df",
   "metadata": {},
   "outputs": [],
   "source": [
    "class_model = NNClassModel(6, 42, 7)"
   ]
  },
  {
   "cell_type": "markdown",
   "id": "cfea37b0-a052-439a-b4b3-9c27dfe3aa0e",
   "metadata": {},
   "source": [
    "We will use cross entropy loss as our loss function for this model since it is a classification model. We will keep using Adam as our optimizer."
   ]
  },
  {
   "cell_type": "code",
   "execution_count": 41,
   "id": "fcdd00f4-e99d-4aff-8337-190a757c0292",
   "metadata": {},
   "outputs": [],
   "source": [
    "class_loss_function = nn.CrossEntropyLoss()"
   ]
  },
  {
   "cell_type": "code",
   "execution_count": 42,
   "id": "0c086c2d-7f3d-48b6-8954-94eca8cc724c",
   "metadata": {},
   "outputs": [],
   "source": [
    "optimizer = torch.optim.Adam(class_model.parameters(), lr = 0.001)"
   ]
  },
  {
   "cell_type": "markdown",
   "id": "91396297-a2d6-440d-84ee-e59abf433299",
   "metadata": {},
   "source": [
    "This training loop code is based on the training loop example from the PyTorch official document."
   ]
  },
  {
   "cell_type": "code",
   "execution_count": 43,
   "id": "60f651fc-0f37-47b2-bdeb-80480a1ac0d6",
   "metadata": {
    "scrolled": true
   },
   "outputs": [],
   "source": [
    "def train_one_epoch():\n",
    "    avg_train_loss = 0.\n",
    "    last_loss = 0.\n",
    "    for i, data in enumerate(train_loader):\n",
    "        inputs, victim_nums = data\n",
    "        victim_nums = victim_nums.long().squeeze()\n",
    "        inputs = inputs.float()\n",
    "        optimizer.zero_grad()\n",
    "        outputs = class_model(inputs)\n",
    "        loss = class_loss_function(outputs, victim_nums)\n",
    "        loss.backward()\n",
    "        optimizer.step()\n",
    "        running_loss = loss.item()\n",
    "        print('  batch {} loss: {}'.format(i + 1, running_loss))\n",
    "        last_loss += running_loss\n",
    "    avg_train_loss = last_loss / (i+1)\n",
    "    return avg_train_loss"
   ]
  },
  {
   "cell_type": "code",
   "execution_count": 44,
   "id": "70133b7b-cc26-43c8-81bd-6856bdf16fd0",
   "metadata": {},
   "outputs": [
    {
     "name": "stdout",
     "output_type": "stream",
     "text": [
      "EPOCH 1:\n",
      "  batch 1 loss: 1.969102144241333\n",
      "  batch 2 loss: 1.9821155071258545\n",
      "  batch 3 loss: 1.9585872888565063\n",
      "  batch 4 loss: 1.9481500387191772\n",
      "  batch 5 loss: 1.9592851400375366\n",
      "  batch 6 loss: 1.9355579614639282\n",
      "  batch 7 loss: 1.9180572032928467\n",
      "  batch 8 loss: 1.918696641921997\n",
      "  batch 9 loss: 1.9153178930282593\n",
      "  batch 10 loss: 1.907348394393921\n",
      "  batch 11 loss: 1.8898731470108032\n",
      "LOSS train 1.9365537600083784 test 1.875687599182129\n",
      "Total 55 Correct 33 Accuracy 60.0\n",
      "EPOCH 2:\n",
      "  batch 1 loss: 1.8797645568847656\n",
      "  batch 2 loss: 1.8926975727081299\n",
      "  batch 3 loss: 1.885226845741272\n",
      "  batch 4 loss: 1.8519668579101562\n",
      "  batch 5 loss: 1.8591549396514893\n",
      "  batch 6 loss: 1.8401076793670654\n",
      "  batch 7 loss: 1.818180799484253\n",
      "  batch 8 loss: 1.8251043558120728\n",
      "  batch 9 loss: 1.8510974645614624\n",
      "  batch 10 loss: 1.8179426193237305\n",
      "  batch 11 loss: 1.8218824863433838\n",
      "LOSS train 1.8493751070716165 test 1.7926207780838013\n",
      "Total 55 Correct 33 Accuracy 60.0\n",
      "EPOCH 3:\n",
      "  batch 1 loss: 1.7912391424179077\n",
      "  batch 2 loss: 1.7942737340927124\n",
      "  batch 3 loss: 1.7722766399383545\n",
      "  batch 4 loss: 1.7640368938446045\n",
      "  batch 5 loss: 1.7793956995010376\n",
      "  batch 6 loss: 1.7921651601791382\n",
      "  batch 7 loss: 1.7584012746810913\n",
      "  batch 8 loss: 1.7548459768295288\n",
      "  batch 9 loss: 1.7819130420684814\n",
      "  batch 10 loss: 1.7249526977539062\n",
      "  batch 11 loss: 1.7586524486541748\n",
      "LOSS train 1.7701957009055398 test 1.718085765838623\n",
      "Total 55 Correct 33 Accuracy 60.0\n",
      "EPOCH 4:\n",
      "  batch 1 loss: 1.648350715637207\n",
      "  batch 2 loss: 1.721095085144043\n",
      "  batch 3 loss: 1.7295106649398804\n",
      "  batch 4 loss: 1.811541199684143\n",
      "  batch 5 loss: 1.6843063831329346\n",
      "  batch 6 loss: 1.7152750492095947\n",
      "  batch 7 loss: 1.7014987468719482\n",
      "  batch 8 loss: 1.6609928607940674\n",
      "  batch 9 loss: 1.6579595804214478\n",
      "  batch 10 loss: 1.6821529865264893\n",
      "  batch 11 loss: 1.679644227027893\n",
      "LOSS train 1.6993024999445134 test 1.6564816236495972\n",
      "Total 55 Correct 33 Accuracy 60.0\n",
      "EPOCH 5:\n",
      "  batch 1 loss: 1.6067460775375366\n",
      "  batch 2 loss: 1.665331244468689\n",
      "  batch 3 loss: 1.678373098373413\n",
      "  batch 4 loss: 1.607499122619629\n",
      "  batch 5 loss: 1.7262617349624634\n",
      "  batch 6 loss: 1.6161994934082031\n",
      "  batch 7 loss: 1.684377908706665\n",
      "  batch 8 loss: 1.6133220195770264\n",
      "  batch 9 loss: 1.6307227611541748\n",
      "  batch 10 loss: 1.6008069515228271\n",
      "  batch 11 loss: 1.618481993675232\n",
      "LOSS train 1.6407384005459873 test 1.6084762811660767\n",
      "Total 55 Correct 33 Accuracy 60.0\n",
      "EPOCH 6:\n",
      "  batch 1 loss: 1.5942565202713013\n",
      "  batch 2 loss: 1.595935583114624\n",
      "  batch 3 loss: 1.5376880168914795\n",
      "  batch 4 loss: 1.6394968032836914\n",
      "  batch 5 loss: 1.5848397016525269\n",
      "  batch 6 loss: 1.6019433736801147\n",
      "  batch 7 loss: 1.6591758728027344\n",
      "  batch 8 loss: 1.5310760736465454\n",
      "  batch 9 loss: 1.5632445812225342\n",
      "  batch 10 loss: 1.634935736656189\n",
      "  batch 11 loss: 1.622488021850586\n",
      "LOSS train 1.5968254804611206 test 1.5739792585372925\n",
      "Total 55 Correct 33 Accuracy 60.0\n",
      "EPOCH 7:\n",
      "  batch 1 loss: 1.502585530281067\n",
      "  batch 2 loss: 1.5684820413589478\n",
      "  batch 3 loss: 1.5222766399383545\n",
      "  batch 4 loss: 1.5963518619537354\n",
      "  batch 5 loss: 1.585413932800293\n",
      "  batch 6 loss: 1.6121870279312134\n",
      "  batch 7 loss: 1.5835678577423096\n",
      "  batch 8 loss: 1.543685793876648\n",
      "  batch 9 loss: 1.5410525798797607\n",
      "  batch 10 loss: 1.4733397960662842\n",
      "  batch 11 loss: 1.6786010265350342\n",
      "LOSS train 1.5643221898512407 test 1.550400733947754\n",
      "Total 55 Correct 33 Accuracy 60.0\n",
      "EPOCH 8:\n",
      "  batch 1 loss: 1.4901378154754639\n",
      "  batch 2 loss: 1.501793622970581\n",
      "  batch 3 loss: 1.6084684133529663\n",
      "  batch 4 loss: 1.6099284887313843\n",
      "  batch 5 loss: 1.6045554876327515\n",
      "  batch 6 loss: 1.5634269714355469\n",
      "  batch 7 loss: 1.4866653680801392\n",
      "  batch 8 loss: 1.4544881582260132\n",
      "  batch 9 loss: 1.5211437940597534\n",
      "  batch 10 loss: 1.562825322151184\n",
      "  batch 11 loss: 1.556758165359497\n",
      "LOSS train 1.541835600679571 test 1.5344892740249634\n",
      "Total 55 Correct 33 Accuracy 60.0\n",
      "EPOCH 9:\n",
      "  batch 1 loss: 1.4759870767593384\n",
      "  batch 2 loss: 1.4856892824172974\n",
      "  batch 3 loss: 1.4404008388519287\n",
      "  batch 4 loss: 1.554993987083435\n",
      "  batch 5 loss: 1.5156062841415405\n",
      "  batch 6 loss: 1.545479655265808\n",
      "  batch 7 loss: 1.5130212306976318\n",
      "  batch 8 loss: 1.5099995136260986\n",
      "  batch 9 loss: 1.6300430297851562\n",
      "  batch 10 loss: 1.5805308818817139\n",
      "  batch 11 loss: 1.5468428134918213\n",
      "LOSS train 1.52714496309107 test 1.5230873823165894\n",
      "Total 55 Correct 33 Accuracy 60.0\n",
      "EPOCH 10:\n",
      "  batch 1 loss: 1.5477186441421509\n",
      "  batch 2 loss: 1.582198143005371\n",
      "  batch 3 loss: 1.5129858255386353\n",
      "  batch 4 loss: 1.5025426149368286\n",
      "  batch 5 loss: 1.5029795169830322\n",
      "  batch 6 loss: 1.4957011938095093\n",
      "  batch 7 loss: 1.5377354621887207\n",
      "  batch 8 loss: 1.5455543994903564\n",
      "  batch 9 loss: 1.5396021604537964\n",
      "  batch 10 loss: 1.4544912576675415\n",
      "  batch 11 loss: 1.4488128423690796\n",
      "LOSS train 1.5154838236895474 test 1.51510488986969\n",
      "Total 55 Correct 33 Accuracy 60.0\n",
      "EPOCH 11:\n",
      "  batch 1 loss: 1.5735455751419067\n",
      "  batch 2 loss: 1.5814318656921387\n",
      "  batch 3 loss: 1.447894811630249\n",
      "  batch 4 loss: 1.49418044090271\n",
      "  batch 5 loss: 1.5319814682006836\n",
      "  batch 6 loss: 1.4965838193893433\n",
      "  batch 7 loss: 1.4951521158218384\n",
      "  batch 8 loss: 1.4497246742248535\n",
      "  batch 9 loss: 1.4476420879364014\n",
      "  batch 10 loss: 1.574894666671753\n",
      "  batch 11 loss: 1.4888548851013184\n",
      "LOSS train 1.5074442191557451 test 1.5087777376174927\n",
      "Total 55 Correct 33 Accuracy 60.0\n",
      "EPOCH 12:\n",
      "  batch 1 loss: 1.5740795135498047\n",
      "  batch 2 loss: 1.4463942050933838\n",
      "  batch 3 loss: 1.6190723180770874\n",
      "  batch 4 loss: 1.490199089050293\n",
      "  batch 5 loss: 1.4847164154052734\n",
      "  batch 6 loss: 1.6144983768463135\n",
      "  batch 7 loss: 1.3972845077514648\n",
      "  batch 8 loss: 1.4431636333465576\n",
      "  batch 9 loss: 1.4838569164276123\n",
      "  batch 10 loss: 1.5679839849472046\n",
      "  batch 11 loss: 1.3925848007202148\n",
      "LOSS train 1.5012576146559282 test 1.5040022134780884\n",
      "Total 55 Correct 33 Accuracy 60.0\n",
      "EPOCH 13:\n",
      "  batch 1 loss: 1.529502272605896\n",
      "  batch 2 loss: 1.4350425004959106\n",
      "  batch 3 loss: 1.6147289276123047\n",
      "  batch 4 loss: 1.4772157669067383\n",
      "  batch 5 loss: 1.437840223312378\n",
      "  batch 6 loss: 1.5280816555023193\n",
      "  batch 7 loss: 1.5266411304473877\n",
      "  batch 8 loss: 1.523276686668396\n",
      "  batch 9 loss: 1.4318255186080933\n",
      "  batch 10 loss: 1.4804391860961914\n",
      "  batch 11 loss: 1.4756513833999634\n",
      "LOSS train 1.496385931968689 test 1.5000821352005005\n",
      "Total 55 Correct 33 Accuracy 60.0\n",
      "EPOCH 14:\n",
      "  batch 1 loss: 1.4762341976165771\n",
      "  batch 2 loss: 1.474421501159668\n",
      "  batch 3 loss: 1.5217974185943604\n",
      "  batch 4 loss: 1.5224852561950684\n",
      "  batch 5 loss: 1.4308823347091675\n",
      "  batch 6 loss: 1.472135305404663\n",
      "  batch 7 loss: 1.5230295658111572\n",
      "  batch 8 loss: 1.4771063327789307\n",
      "  batch 9 loss: 1.6584192514419556\n",
      "  batch 10 loss: 1.4308215379714966\n",
      "  batch 11 loss: 1.4295177459716797\n",
      "LOSS train 1.4924409497867932 test 1.4968881607055664\n",
      "Total 55 Correct 33 Accuracy 60.0\n",
      "EPOCH 15:\n",
      "  batch 1 loss: 1.4753724336624146\n",
      "  batch 2 loss: 1.518141746520996\n",
      "  batch 3 loss: 1.474748134613037\n",
      "  batch 4 loss: 1.3848856687545776\n",
      "  batch 5 loss: 1.4733068943023682\n",
      "  batch 6 loss: 1.5183546543121338\n",
      "  batch 7 loss: 1.564287543296814\n",
      "  batch 8 loss: 1.5180695056915283\n",
      "  batch 9 loss: 1.4271776676177979\n",
      "  batch 10 loss: 1.5155253410339355\n",
      "  batch 11 loss: 1.512431025505066\n",
      "LOSS train 1.4893000559373335 test 1.4943408966064453\n",
      "Total 55 Correct 33 Accuracy 60.0\n",
      "EPOCH 16:\n",
      "  batch 1 loss: 1.4708030223846436\n",
      "  batch 2 loss: 1.4723961353302002\n",
      "  batch 3 loss: 1.5175092220306396\n",
      "  batch 4 loss: 1.469287633895874\n",
      "  batch 5 loss: 1.3766971826553345\n",
      "  batch 6 loss: 1.4233922958374023\n",
      "  batch 7 loss: 1.472381353378296\n",
      "  batch 8 loss: 1.562353253364563\n",
      "  batch 9 loss: 1.514534831047058\n",
      "  batch 10 loss: 1.4701311588287354\n",
      "  batch 11 loss: 1.6034934520721436\n",
      "LOSS train 1.4866345037113537 test 1.4921563863754272\n",
      "Total 55 Correct 33 Accuracy 60.0\n",
      "EPOCH 17:\n",
      "  batch 1 loss: 1.422985315322876\n",
      "  batch 2 loss: 1.4229673147201538\n",
      "  batch 3 loss: 1.560002088546753\n",
      "  batch 4 loss: 1.464892864227295\n",
      "  batch 5 loss: 1.5117555856704712\n",
      "  batch 6 loss: 1.5562455654144287\n",
      "  batch 7 loss: 1.422999620437622\n",
      "  batch 8 loss: 1.5163719654083252\n",
      "  batch 9 loss: 1.5139825344085693\n",
      "  batch 10 loss: 1.5123311281204224\n",
      "  batch 11 loss: 1.4229785203933716\n",
      "LOSS train 1.4843193184245715 test 1.4903745651245117\n",
      "Total 55 Correct 33 Accuracy 60.0\n",
      "EPOCH 18:\n",
      "  batch 1 loss: 1.4201133251190186\n",
      "  batch 2 loss: 1.4640066623687744\n",
      "  batch 3 loss: 1.4668827056884766\n",
      "  batch 4 loss: 1.4649513959884644\n",
      "  batch 5 loss: 1.5615684986114502\n",
      "  batch 6 loss: 1.5119504928588867\n",
      "  batch 7 loss: 1.5134246349334717\n",
      "  batch 8 loss: 1.3724915981292725\n",
      "  batch 9 loss: 1.5571523904800415\n",
      "  batch 10 loss: 1.5114243030548096\n",
      "  batch 11 loss: 1.4634132385253906\n",
      "LOSS train 1.4824890223416416 test 1.4888702630996704\n",
      "Total 55 Correct 33 Accuracy 60.0\n",
      "EPOCH 19:\n",
      "  batch 1 loss: 1.6031612157821655\n",
      "  batch 2 loss: 1.4660756587982178\n",
      "  batch 3 loss: 1.5091487169265747\n",
      "  batch 4 loss: 1.4671276807785034\n",
      "  batch 5 loss: 1.5559059381484985\n",
      "  batch 6 loss: 1.370718240737915\n",
      "  batch 7 loss: 1.4673850536346436\n",
      "  batch 8 loss: 1.4140574932098389\n",
      "  batch 9 loss: 1.4614717960357666\n",
      "  batch 10 loss: 1.4649012088775635\n",
      "  batch 11 loss: 1.5094211101531982\n",
      "LOSS train 1.480852192098444 test 1.4875892400741577\n",
      "Total 55 Correct 33 Accuracy 60.0\n",
      "EPOCH 20:\n",
      "  batch 1 loss: 1.5584684610366821\n",
      "  batch 2 loss: 1.5092121362686157\n",
      "  batch 3 loss: 1.5550892353057861\n",
      "  batch 4 loss: 1.4612523317337036\n",
      "  batch 5 loss: 1.4633853435516357\n",
      "  batch 6 loss: 1.4621608257293701\n",
      "  batch 7 loss: 1.414254903793335\n",
      "  batch 8 loss: 1.5594475269317627\n",
      "  batch 9 loss: 1.414518117904663\n",
      "  batch 10 loss: 1.4153794050216675\n",
      "  batch 11 loss: 1.4609708786010742\n",
      "LOSS train 1.4794671968980269 test 1.4864563941955566\n",
      "Total 55 Correct 33 Accuracy 60.0\n",
      "EPOCH 21:\n",
      "  batch 1 loss: 1.3663232326507568\n",
      "  batch 2 loss: 1.4613152742385864\n",
      "  batch 3 loss: 1.4150487184524536\n",
      "  batch 4 loss: 1.5537755489349365\n",
      "  batch 5 loss: 1.50882089138031\n",
      "  batch 6 loss: 1.556642770767212\n",
      "  batch 7 loss: 1.5075924396514893\n",
      "  batch 8 loss: 1.4608285427093506\n",
      "  batch 9 loss: 1.5084445476531982\n",
      "  batch 10 loss: 1.508739709854126\n",
      "  batch 11 loss: 1.4137459993362427\n",
      "LOSS train 1.4782979705116965 test 1.4854365587234497\n",
      "Total 55 Correct 33 Accuracy 60.0\n",
      "EPOCH 22:\n",
      "  batch 1 loss: 1.601609468460083\n",
      "  batch 2 loss: 1.5532324314117432\n",
      "  batch 3 loss: 1.4633777141571045\n",
      "  batch 4 loss: 1.556057333946228\n",
      "  batch 5 loss: 1.4127141237258911\n",
      "  batch 6 loss: 1.4117047786712646\n",
      "  batch 7 loss: 1.4124882221221924\n",
      "  batch 8 loss: 1.4597578048706055\n",
      "  batch 9 loss: 1.4585222005844116\n",
      "  batch 10 loss: 1.506272792816162\n",
      "  batch 11 loss: 1.4133656024932861\n",
      "LOSS train 1.4771911339326338 test 1.4845771789550781\n",
      "Total 55 Correct 33 Accuracy 60.0\n",
      "EPOCH 23:\n",
      "  batch 1 loss: 1.363004446029663\n",
      "  batch 2 loss: 1.5540919303894043\n",
      "  batch 3 loss: 1.5076512098312378\n",
      "  batch 4 loss: 1.5515778064727783\n",
      "  batch 5 loss: 1.555164098739624\n",
      "  batch 6 loss: 1.4105669260025024\n",
      "  batch 7 loss: 1.4108989238739014\n",
      "  batch 8 loss: 1.4594533443450928\n",
      "  batch 9 loss: 1.601637601852417\n",
      "  batch 10 loss: 1.4117248058319092\n",
      "  batch 11 loss: 1.4131293296813965\n",
      "LOSS train 1.4762636748227207 test 1.483787178993225\n",
      "Total 55 Correct 33 Accuracy 60.0\n",
      "EPOCH 24:\n",
      "  batch 1 loss: 1.4127622842788696\n",
      "  batch 2 loss: 1.4103175401687622\n",
      "  batch 3 loss: 1.5061506032943726\n",
      "  batch 4 loss: 1.5992801189422607\n",
      "  batch 5 loss: 1.6473335027694702\n",
      "  batch 6 loss: 1.3625261783599854\n",
      "  batch 7 loss: 1.4107946157455444\n",
      "  batch 8 loss: 1.411080241203308\n",
      "  batch 9 loss: 1.4592365026474\n",
      "  batch 10 loss: 1.4587591886520386\n",
      "  batch 11 loss: 1.5516109466552734\n",
      "LOSS train 1.4754410657015713 test 1.4830812215805054\n",
      "Total 55 Correct 33 Accuracy 60.0\n",
      "EPOCH 25:\n",
      "  batch 1 loss: 1.4094419479370117\n",
      "  batch 2 loss: 1.4579846858978271\n",
      "  batch 3 loss: 1.5532450675964355\n",
      "  batch 4 loss: 1.5052764415740967\n",
      "  batch 5 loss: 1.4559224843978882\n",
      "  batch 6 loss: 1.457084059715271\n",
      "  batch 7 loss: 1.5048433542251587\n",
      "  batch 8 loss: 1.5052869319915771\n",
      "  batch 9 loss: 1.4582589864730835\n",
      "  batch 10 loss: 1.409570336341858\n",
      "  batch 11 loss: 1.5043867826461792\n",
      "LOSS train 1.4746637344360352 test 1.4824591875076294\n",
      "Total 55 Correct 33 Accuracy 60.0\n",
      "EPOCH 26:\n",
      "  batch 1 loss: 1.4572060108184814\n",
      "  batch 2 loss: 1.4557890892028809\n",
      "  batch 3 loss: 1.4574098587036133\n",
      "  batch 4 loss: 1.4093883037567139\n",
      "  batch 5 loss: 1.551962971687317\n",
      "  batch 6 loss: 1.5047807693481445\n",
      "  batch 7 loss: 1.3600324392318726\n",
      "  batch 8 loss: 1.6487077474594116\n",
      "  batch 9 loss: 1.3609048128128052\n",
      "  batch 10 loss: 1.5027345418930054\n",
      "  batch 11 loss: 1.5049726963043213\n",
      "LOSS train 1.4739899310198696 test 1.4818878173828125\n",
      "Total 55 Correct 33 Accuracy 60.0\n",
      "EPOCH 27:\n",
      "  batch 1 loss: 1.5042446851730347\n",
      "  batch 2 loss: 1.5048789978027344\n",
      "  batch 3 loss: 1.359495759010315\n",
      "  batch 4 loss: 1.3597415685653687\n",
      "  batch 5 loss: 1.4565579891204834\n",
      "  batch 6 loss: 1.5024535655975342\n",
      "  batch 7 loss: 1.5030721426010132\n",
      "  batch 8 loss: 1.552992820739746\n",
      "  batch 9 loss: 1.5521862506866455\n",
      "  batch 10 loss: 1.4068348407745361\n",
      "  batch 11 loss: 1.5046257972717285\n",
      "LOSS train 1.473371310667558 test 1.4813705682754517\n",
      "Total 55 Correct 33 Accuracy 60.0\n",
      "EPOCH 28:\n",
      "  batch 1 loss: 1.4079983234405518\n",
      "  batch 2 loss: 1.5032602548599243\n",
      "  batch 3 loss: 1.5539000034332275\n",
      "  batch 4 loss: 1.455966830253601\n",
      "  batch 5 loss: 1.4058806896209717\n",
      "  batch 6 loss: 1.454082727432251\n",
      "  batch 7 loss: 1.4069782495498657\n",
      "  batch 8 loss: 1.4069204330444336\n",
      "  batch 9 loss: 1.405662178993225\n",
      "  batch 10 loss: 1.5524271726608276\n",
      "  batch 11 loss: 1.6478655338287354\n",
      "LOSS train 1.4728129451925105 test 1.480912208557129\n",
      "Total 55 Correct 33 Accuracy 60.0\n",
      "EPOCH 29:\n",
      "  batch 1 loss: 1.4071180820465088\n",
      "  batch 2 loss: 1.5026490688323975\n",
      "  batch 3 loss: 1.5504894256591797\n",
      "  batch 4 loss: 1.5025713443756104\n",
      "  batch 5 loss: 1.4546387195587158\n",
      "  batch 6 loss: 1.453294038772583\n",
      "  batch 7 loss: 1.4069511890411377\n",
      "  batch 8 loss: 1.5994683504104614\n",
      "  batch 9 loss: 1.3587664365768433\n",
      "  batch 10 loss: 1.4552631378173828\n",
      "  batch 11 loss: 1.5038645267486572\n",
      "LOSS train 1.4722794836217707 test 1.4804893732070923\n",
      "Total 55 Correct 33 Accuracy 60.0\n",
      "EPOCH 30:\n",
      "  batch 1 loss: 1.405537486076355\n",
      "  batch 2 loss: 1.5013971328735352\n",
      "  batch 3 loss: 1.5509198904037476\n",
      "  batch 4 loss: 1.4066550731658936\n",
      "  batch 5 loss: 1.4529041051864624\n",
      "  batch 6 loss: 1.4559415578842163\n",
      "  batch 7 loss: 1.4053943157196045\n",
      "  batch 8 loss: 1.4051834344863892\n",
      "  batch 9 loss: 1.4556317329406738\n",
      "  batch 10 loss: 1.5038201808929443\n",
      "  batch 11 loss: 1.6467679738998413\n",
      "LOSS train 1.4718320803208784 test 1.4800945520401\n",
      "Total 55 Correct 33 Accuracy 60.0\n",
      "EPOCH 31:\n",
      "  batch 1 loss: 1.4065687656402588\n",
      "  batch 2 loss: 1.4550609588623047\n",
      "  batch 3 loss: 1.5034573078155518\n",
      "  batch 4 loss: 1.4530656337738037\n",
      "  batch 5 loss: 1.4522554874420166\n",
      "  batch 6 loss: 1.6464755535125732\n",
      "  batch 7 loss: 1.5036470890045166\n",
      "  batch 8 loss: 1.4046766757965088\n",
      "  batch 9 loss: 1.4535514116287231\n",
      "  batch 10 loss: 1.4530961513519287\n",
      "  batch 11 loss: 1.4534770250320435\n",
      "LOSS train 1.4713938236236572 test 1.4797464609146118\n",
      "Total 55 Correct 33 Accuracy 60.0\n",
      "EPOCH 32:\n",
      "  batch 1 loss: 1.4534385204315186\n",
      "  batch 2 loss: 1.5498082637786865\n",
      "  batch 3 loss: 1.4544225931167603\n",
      "  batch 4 loss: 1.453174352645874\n",
      "  batch 5 loss: 1.4535428285598755\n",
      "  batch 6 loss: 1.4533450603485107\n",
      "  batch 7 loss: 1.453223705291748\n",
      "  batch 8 loss: 1.501346230506897\n",
      "  batch 9 loss: 1.40555739402771\n",
      "  batch 10 loss: 1.4535926580429077\n",
      "  batch 11 loss: 1.5495152473449707\n",
      "LOSS train 1.470996986735951 test 1.479416012763977\n",
      "Total 55 Correct 33 Accuracy 60.0\n",
      "EPOCH 33:\n",
      "  batch 1 loss: 1.404303789138794\n",
      "  batch 2 loss: 1.55019211769104\n",
      "  batch 3 loss: 1.5019649267196655\n",
      "  batch 4 loss: 1.5500739812850952\n",
      "  batch 5 loss: 1.501752495765686\n",
      "  batch 6 loss: 1.452020525932312\n",
      "  batch 7 loss: 1.4529978036880493\n",
      "  batch 8 loss: 1.4044992923736572\n",
      "  batch 9 loss: 1.4527815580368042\n",
      "  batch 10 loss: 1.5501105785369873\n",
      "  batch 11 loss: 1.3562040328979492\n",
      "LOSS train 1.4706273729150945 test 1.4791159629821777\n",
      "Total 55 Correct 33 Accuracy 60.0\n",
      "EPOCH 34:\n",
      "  batch 1 loss: 1.4528471231460571\n",
      "  batch 2 loss: 1.5484286546707153\n",
      "  batch 3 loss: 1.5500683784484863\n",
      "  batch 4 loss: 1.5493018627166748\n",
      "  batch 5 loss: 1.3555357456207275\n",
      "  batch 6 loss: 1.4052293300628662\n",
      "  batch 7 loss: 1.501198172569275\n",
      "  batch 8 loss: 1.5502116680145264\n",
      "  batch 9 loss: 1.4528911113739014\n",
      "  batch 10 loss: 1.4520294666290283\n",
      "  batch 11 loss: 1.3555073738098145\n",
      "LOSS train 1.4702953533692793 test 1.4788328409194946\n",
      "Total 55 Correct 33 Accuracy 60.0\n",
      "EPOCH 35:\n",
      "  batch 1 loss: 1.5004498958587646\n",
      "  batch 2 loss: 1.646106481552124\n",
      "  batch 3 loss: 1.4512629508972168\n",
      "  batch 4 loss: 1.452701210975647\n",
      "  batch 5 loss: 1.3553111553192139\n",
      "  batch 6 loss: 1.4046491384506226\n",
      "  batch 7 loss: 1.4041969776153564\n",
      "  batch 8 loss: 1.5008800029754639\n",
      "  batch 9 loss: 1.4519083499908447\n",
      "  batch 10 loss: 1.5988409519195557\n",
      "  batch 11 loss: 1.4035862684249878\n",
      "LOSS train 1.469990307634527 test 1.4785691499710083\n",
      "Total 55 Correct 33 Accuracy 60.0\n",
      "EPOCH 36:\n",
      "  batch 1 loss: 1.5499054193496704\n",
      "  batch 2 loss: 1.452712059020996\n",
      "  batch 3 loss: 1.451613187789917\n",
      "  batch 4 loss: 1.549065351486206\n",
      "  batch 5 loss: 1.5488452911376953\n",
      "  batch 6 loss: 1.3544070720672607\n",
      "  batch 7 loss: 1.4523662328720093\n",
      "  batch 8 loss: 1.4520519971847534\n",
      "  batch 9 loss: 1.4524290561676025\n",
      "  batch 10 loss: 1.4026468992233276\n",
      "  batch 11 loss: 1.5006319284439087\n",
      "LOSS train 1.4696976813403042 test 1.4783306121826172\n",
      "Total 55 Correct 33 Accuracy 60.0\n",
      "EPOCH 37:\n",
      "  batch 1 loss: 1.3541823625564575\n",
      "  batch 2 loss: 1.5487253665924072\n",
      "  batch 3 loss: 1.548716425895691\n",
      "  batch 4 loss: 1.4523736238479614\n",
      "  batch 5 loss: 1.354238510131836\n",
      "  batch 6 loss: 1.5007888078689575\n",
      "  batch 7 loss: 1.3539671897888184\n",
      "  batch 8 loss: 1.5005848407745361\n",
      "  batch 9 loss: 1.646723985671997\n",
      "  batch 10 loss: 1.4517738819122314\n",
      "  batch 11 loss: 1.4516793489456177\n",
      "LOSS train 1.4694322130896829 test 1.4780999422073364\n",
      "Total 55 Correct 33 Accuracy 60.0\n",
      "EPOCH 38:\n",
      "  batch 1 loss: 1.4030321836471558\n",
      "  batch 2 loss: 1.40147864818573\n",
      "  batch 3 loss: 1.403684377670288\n",
      "  batch 4 loss: 1.353689432144165\n",
      "  batch 5 loss: 1.4510276317596436\n",
      "  batch 6 loss: 1.6468770503997803\n",
      "  batch 7 loss: 1.6467602252960205\n",
      "  batch 8 loss: 1.451615333557129\n",
      "  batch 9 loss: 1.5006344318389893\n",
      "  batch 10 loss: 1.500200867652893\n",
      "  batch 11 loss: 1.401993989944458\n",
      "LOSS train 1.4691812883723865 test 1.4778884649276733\n",
      "Total 55 Correct 33 Accuracy 60.0\n",
      "EPOCH 39:\n",
      "  batch 1 loss: 1.4999126195907593\n",
      "  batch 2 loss: 1.5005531311035156\n",
      "  batch 3 loss: 1.4022903442382812\n",
      "  batch 4 loss: 1.5484554767608643\n",
      "  batch 5 loss: 1.451171636581421\n",
      "  batch 6 loss: 1.4022135734558105\n",
      "  batch 7 loss: 1.4020068645477295\n",
      "  batch 8 loss: 1.5011212825775146\n",
      "  batch 9 loss: 1.4512741565704346\n",
      "  batch 10 loss: 1.5977728366851807\n",
      "  batch 11 loss: 1.4015560150146484\n",
      "LOSS train 1.4689389033751055 test 1.47769296169281\n",
      "Total 55 Correct 33 Accuracy 60.0\n",
      "EPOCH 40:\n",
      "  batch 1 loss: 1.4520221948623657\n",
      "  batch 2 loss: 1.4515266418457031\n",
      "  batch 3 loss: 1.5481911897659302\n",
      "  batch 4 loss: 1.4991658926010132\n",
      "  batch 5 loss: 1.4023009538650513\n",
      "  batch 6 loss: 1.50047767162323\n",
      "  batch 7 loss: 1.3524396419525146\n",
      "  batch 8 loss: 1.4509938955307007\n",
      "  batch 9 loss: 1.646547555923462\n",
      "  batch 10 loss: 1.4014990329742432\n",
      "  batch 11 loss: 1.4507908821105957\n",
      "LOSS train 1.4687232320958918 test 1.4775108098983765\n",
      "Total 55 Correct 33 Accuracy 60.0\n",
      "EPOCH 41:\n",
      "  batch 1 loss: 1.4505770206451416\n",
      "  batch 2 loss: 1.5976860523223877\n",
      "  batch 3 loss: 1.4514787197113037\n",
      "  batch 4 loss: 1.451018214225769\n",
      "  batch 5 loss: 1.5972843170166016\n",
      "  batch 6 loss: 1.4018465280532837\n",
      "  batch 7 loss: 1.4021551609039307\n",
      "  batch 8 loss: 1.4996392726898193\n",
      "  batch 9 loss: 1.450124740600586\n",
      "  batch 10 loss: 1.352420449256897\n",
      "  batch 11 loss: 1.4994285106658936\n",
      "LOSS train 1.468514453281056 test 1.4773391485214233\n",
      "Total 55 Correct 33 Accuracy 60.0\n",
      "EPOCH 42:\n",
      "  batch 1 loss: 1.4995540380477905\n",
      "  batch 2 loss: 1.401039719581604\n",
      "  batch 3 loss: 1.5981138944625854\n",
      "  batch 4 loss: 1.352780818939209\n",
      "  batch 5 loss: 1.4015965461730957\n",
      "  batch 6 loss: 1.499611496925354\n",
      "  batch 7 loss: 1.5967360734939575\n",
      "  batch 8 loss: 1.3528344631195068\n",
      "  batch 9 loss: 1.5975910425186157\n",
      "  batch 10 loss: 1.401512861251831\n",
      "  batch 11 loss: 1.4502192735671997\n",
      "LOSS train 1.4683263843709773 test 1.477174162864685\n",
      "Total 55 Correct 33 Accuracy 60.0\n",
      "EPOCH 43:\n",
      "  batch 1 loss: 1.4500473737716675\n",
      "  batch 2 loss: 1.547644019126892\n",
      "  batch 3 loss: 1.4508126974105835\n",
      "  batch 4 loss: 1.4992178678512573\n",
      "  batch 5 loss: 1.4496474266052246\n",
      "  batch 6 loss: 1.3524621725082397\n",
      "  batch 7 loss: 1.4993507862091064\n",
      "  batch 8 loss: 1.4990748167037964\n",
      "  batch 9 loss: 1.5000087022781372\n",
      "  batch 10 loss: 1.5483427047729492\n",
      "  batch 11 loss: 1.3529623746871948\n",
      "LOSS train 1.468142812902277 test 1.4770201444625854\n",
      "Total 55 Correct 33 Accuracy 60.0\n",
      "EPOCH 44:\n",
      "  batch 1 loss: 1.4504649639129639\n",
      "  batch 2 loss: 1.4984824657440186\n",
      "  batch 3 loss: 1.401207685470581\n",
      "  batch 4 loss: 1.401190996170044\n",
      "  batch 5 loss: 1.4988980293273926\n",
      "  batch 6 loss: 1.4499400854110718\n",
      "  batch 7 loss: 1.6474241018295288\n",
      "  batch 8 loss: 1.4503413438796997\n",
      "  batch 9 loss: 1.4989755153656006\n",
      "  batch 10 loss: 1.400769829750061\n",
      "  batch 11 loss: 1.4500595331192017\n",
      "LOSS train 1.467977686361833 test 1.476880669593811\n",
      "Total 55 Correct 33 Accuracy 60.0\n",
      "EPOCH 45:\n",
      "  batch 1 loss: 1.4496973752975464\n",
      "  batch 2 loss: 1.5483267307281494\n",
      "  batch 3 loss: 1.4992114305496216\n",
      "  batch 4 loss: 1.3518598079681396\n",
      "  batch 5 loss: 1.4501432180404663\n",
      "  batch 6 loss: 1.450480580329895\n",
      "  batch 7 loss: 1.4984549283981323\n",
      "  batch 8 loss: 1.4499348402023315\n",
      "  batch 9 loss: 1.4994062185287476\n",
      "  batch 10 loss: 1.4498577117919922\n",
      "  batch 11 loss: 1.4985891580581665\n",
      "LOSS train 1.467814727263017 test 1.4767451286315918\n",
      "Total 55 Correct 33 Accuracy 60.0\n",
      "EPOCH 46:\n",
      "  batch 1 loss: 1.4012447595596313\n",
      "  batch 2 loss: 1.4500783681869507\n",
      "  batch 3 loss: 1.4987865686416626\n",
      "  batch 4 loss: 1.4983755350112915\n",
      "  batch 5 loss: 1.499457597732544\n",
      "  batch 6 loss: 1.6463377475738525\n",
      "  batch 7 loss: 1.449050784111023\n",
      "  batch 8 loss: 1.4498552083969116\n",
      "  batch 9 loss: 1.498456358909607\n",
      "  batch 10 loss: 1.3516497611999512\n",
      "  batch 11 loss: 1.4009802341461182\n",
      "LOSS train 1.4676611748608677 test 1.4766193628311157\n",
      "Total 55 Correct 33 Accuracy 60.0\n",
      "EPOCH 47:\n",
      "  batch 1 loss: 1.4503400325775146\n",
      "  batch 2 loss: 1.4991384744644165\n",
      "  batch 3 loss: 1.4493118524551392\n",
      "  batch 4 loss: 1.449756145477295\n",
      "  batch 5 loss: 1.596473217010498\n",
      "  batch 6 loss: 1.4989087581634521\n",
      "  batch 7 loss: 1.3513554334640503\n",
      "  batch 8 loss: 1.4986200332641602\n",
      "  batch 9 loss: 1.3999793529510498\n",
      "  batch 10 loss: 1.4984772205352783\n",
      "  batch 11 loss: 1.4503626823425293\n",
      "LOSS train 1.467520291155035 test 1.4764958620071411\n",
      "Total 55 Correct 33 Accuracy 60.0\n",
      "EPOCH 48:\n",
      "  batch 1 loss: 1.4488643407821655\n",
      "  batch 2 loss: 1.5486699342727661\n",
      "  batch 3 loss: 1.498293399810791\n",
      "  batch 4 loss: 1.449485182762146\n",
      "  batch 5 loss: 1.4495869874954224\n",
      "  batch 6 loss: 1.4493306875228882\n",
      "  batch 7 loss: 1.4004994630813599\n",
      "  batch 8 loss: 1.5483896732330322\n",
      "  batch 9 loss: 1.4003394842147827\n",
      "  batch 10 loss: 1.597051739692688\n",
      "  batch 11 loss: 1.350703477859497\n",
      "LOSS train 1.4673831246115945 test 1.4763816595077515\n",
      "Total 55 Correct 33 Accuracy 60.0\n",
      "EPOCH 49:\n",
      "  batch 1 loss: 1.3996491432189941\n",
      "  batch 2 loss: 1.498621940612793\n",
      "  batch 3 loss: 1.3510369062423706\n",
      "  batch 4 loss: 1.4495935440063477\n",
      "  batch 5 loss: 1.449204444885254\n",
      "  batch 6 loss: 1.351104736328125\n",
      "  batch 7 loss: 1.5476924180984497\n",
      "  batch 8 loss: 1.4981549978256226\n",
      "  batch 9 loss: 1.4985158443450928\n",
      "  batch 10 loss: 1.4493858814239502\n",
      "  batch 11 loss: 1.6469045877456665\n",
      "LOSS train 1.467260404066606 test 1.4762697219848633\n",
      "Total 55 Correct 33 Accuracy 60.0\n",
      "EPOCH 50:\n",
      "  batch 1 loss: 1.4489978551864624\n",
      "  batch 2 loss: 1.4489855766296387\n",
      "  batch 3 loss: 1.4493439197540283\n",
      "  batch 4 loss: 1.547462821006775\n",
      "  batch 5 loss: 1.4488322734832764\n",
      "  batch 6 loss: 1.3505587577819824\n",
      "  batch 7 loss: 1.3995552062988281\n",
      "  batch 8 loss: 1.5980224609375\n",
      "  batch 9 loss: 1.498530626296997\n",
      "  batch 10 loss: 1.4981625080108643\n",
      "  batch 11 loss: 1.45000159740448\n",
      "LOSS train 1.4671321457082576 test 1.4761689901351929\n",
      "Total 55 Correct 33 Accuracy 60.0\n"
     ]
    }
   ],
   "source": [
    "epoch_number = 0\n",
    "\n",
    "EPOCHS = 50\n",
    "\n",
    "for epoch in range(EPOCHS):\n",
    "    print('EPOCH {}:'.format(epoch_number + 1))\n",
    "\n",
    "    # Make sure gradient tracking is on, and do a pass over the data\n",
    "    class_model.train(True)\n",
    "    avg_train_loss = train_one_epoch()\n",
    "\n",
    "\n",
    "    running_test_loss = 0.0\n",
    "    # Set the model to evaluation mode, disabling dropout and using population\n",
    "    # statistics for batch normalization.\n",
    "    class_model.eval()\n",
    "    correct = 0\n",
    "    total = 0\n",
    "    # Disable gradient computation and reduce memory consumption.\n",
    "    with torch.no_grad():\n",
    "        for i, test_data in enumerate(test_loader):\n",
    "            test_inputs, test_victim_nums = test_data\n",
    "            test_victim_nums = test_victim_nums.long().squeeze()\n",
    "            test_inputs = test_inputs.float()\n",
    "            test_outputs = class_model(test_inputs)\n",
    "            _, predicted = torch.max(test_outputs.data, 1)\n",
    "            total += test_victim_nums.size(0)\n",
    "            # Total correct predictions\n",
    "            correct += (predicted == test_victim_nums).sum()\n",
    "            # print(\"victim number {}\".format(total))\n",
    "            # print(\"Correct {}\".format(correct))\n",
    "            test_loss = class_loss_function(test_outputs, test_victim_nums)\n",
    "            running_test_loss += test_loss\n",
    "\n",
    "    accuracy = 100 * correct / total\n",
    "    avg_test_loss = running_test_loss / (i + 1)\n",
    "    print('LOSS train {} test {}'.format(avg_train_loss, avg_test_loss))\n",
    "    print('Total {} Correct {} Accuracy {}'.format(total, correct, accuracy))\n",
    "    epoch_number += 1"
   ]
  },
  {
   "cell_type": "markdown",
   "id": "84d2a304-6197-4cd9-b31e-745f7862f213",
   "metadata": {},
   "source": [
    "## Task 5"
   ]
  },
  {
   "cell_type": "markdown",
   "id": "d6e4ef16-d828-45e5-bd58-1c49fcfecf52",
   "metadata": {},
   "source": [
    "### Reflect on your results\n",
    "\n",
    "* Write a paragraph about your experience with tasks 3 and 4. How do you compare the results? Which one worked better? Why?\n",
    "* Write a piece of code that finds an example of a  miss-classification. Calculate the probabilities for the output classes and plot them in a bar chart. Also, indicate what is the correct class label."
   ]
  },
  {
   "cell_type": "markdown",
   "id": "ee7416e6-f1c0-4127-8c86-97cc37976c69",
   "metadata": {},
   "source": [
    "## Work for Task 5"
   ]
  },
  {
   "cell_type": "markdown",
   "id": "fe9f2da2-7473-49ad-aca0-119bc74cf760",
   "metadata": {},
   "source": [
    "From working with both model, task 3 is less challenging since we only have to calculate the loss after each epoch. Task 4 is a little bit more challenging, since we have to both minimize the loss as well as get a better accuracy. However, the output of the regression model from task 3 does not work very well with the result that we are trying to predict. One thing is that a person is a whole and it is impossible to have a decimal places amount of person. Although we can round the number, it does not work very well with this kind of task since the regression model use mean square error as its loss function. Assuming that we have data that are very bias in which most of the outcome is 0, eventhough we might come across the case in which there is a large amount of victims, the model will only update the parameter to minimize the mean square different. As a result, it will not work very well. On the other hand, treating this as a classification problems is better since the output of our model can be treated probability of the victims amount. As long as we have the right class number of victims, we can predict the amount of victims based on the class that has the highest probability. However, this model is limited to the amount of vicitims classes that we defined which mean it will not be able to predict the amount of victims that is higher than the amount of output classes that we predefined for the model. Overall, with the data that we have, the classification model work better than the regression one."
   ]
  },
  {
   "cell_type": "code",
   "execution_count": 45,
   "id": "390e697b-c57e-4a49-b257-3ac95e0e3a51",
   "metadata": {},
   "outputs": [],
   "source": [
    "for i, example in enumerate(test_loader):\n",
    "    x, y = example\n",
    "    break"
   ]
  },
  {
   "cell_type": "code",
   "execution_count": 90,
   "id": "5839098c-8457-4674-9fa0-fa8d87616a59",
   "metadata": {},
   "outputs": [],
   "source": [
    "index = 15"
   ]
  },
  {
   "cell_type": "code",
   "execution_count": 91,
   "id": "f8e24f1f-fd87-4cec-ae90-449f45cb771a",
   "metadata": {},
   "outputs": [],
   "source": [
    "output = class_model(x[index].float())"
   ]
  },
  {
   "cell_type": "code",
   "execution_count": 92,
   "id": "fcbbc33f-3365-4387-b2e8-0ff9ed1bc868",
   "metadata": {},
   "outputs": [],
   "source": [
    "_, predicted = torch.max(output.data, 0)"
   ]
  },
  {
   "cell_type": "code",
   "execution_count": 93,
   "id": "f3c5803d-573a-4021-89f3-cfcd5d21e8c9",
   "metadata": {},
   "outputs": [
    {
     "data": {
      "text/plain": [
       "tensor(0)"
      ]
     },
     "execution_count": 93,
     "metadata": {},
     "output_type": "execute_result"
    }
   ],
   "source": [
    "predicted"
   ]
  },
  {
   "cell_type": "code",
   "execution_count": 96,
   "id": "32b479d1-fd43-4e27-8cd8-f2952fefd6d6",
   "metadata": {},
   "outputs": [
    {
     "data": {
      "text/plain": [
       "tensor([3.], dtype=torch.float64)"
      ]
     },
     "execution_count": 96,
     "metadata": {},
     "output_type": "execute_result"
    }
   ],
   "source": [
    "y[index]"
   ]
  },
  {
   "cell_type": "code",
   "execution_count": 97,
   "id": "0bdacb31-5feb-4c06-8db5-cc9a35f96b9b",
   "metadata": {},
   "outputs": [
    {
     "data": {
      "text/plain": [
       "Text(0.5, 1.0, 'Model output victim number 0\\n Actual victim number 3')"
      ]
     },
     "execution_count": 97,
     "metadata": {},
     "output_type": "execute_result"
    },
    {
     "data": {
      "image/png": "[encoded data removed]",
      "text/plain": [
       "<Figure size 640x480 with 1 Axes>"
      ]
     },
     "metadata": {},
     "output_type": "display_data"
    }
   ],
   "source": [
    "ax = plt.subplot()\n",
    "ax.bar(range(7),output.detach().numpy())\n",
    "ax.set_xticks(range(7))\n",
    "plt.title(\"Model output victim number {}\\n Actual victim number {}\".format(predicted.item(), int(y[index].item())))\n"
   ]
  },
  {
   "cell_type": "markdown",
   "id": "5b000b0b-fa37-4f8d-8ec7-0a1e6e749424",
   "metadata": {},
   "source": [
    "## Task 6: Exploring the patterns in raw data\n",
    "\n",
    "* Plot the crime incidents as a `scatter` plot using the corrdinates. Use the color property of each datapoint to indicate the day of the week. Is there a pattern in the plot?\n",
    "* Now make a new scatter plot and use the color property of each datapoint to indicate the number of persons involved in the incident. Is there a pattern here?\n",
    "* use numpy (or pandas if you like) to sort the number of crimes reported by the day of the week. What days are most frequent?\n"
   ]
  },
  {
   "cell_type": "code",
   "execution_count": 52,
   "id": "78209b67-5166-418a-9db0-8c0dc80cbc5d",
   "metadata": {},
   "outputs": [],
   "source": [
    "df2 = pd.read_csv('Data/LVMPD-Stats.csv', parse_dates=['ReportedOn'],\n",
    "                 usecols = ['X', 'Y', 'ReportedOn',\n",
    "                            'Area_Command','NIBRSOffenseCode',\n",
    "                            'VictimCount' ] )"
   ]
  },
  {
   "cell_type": "code",
   "execution_count": 53,
   "id": "f1e7a2db-d98f-4b71-9092-e8277b09c25e",
   "metadata": {},
   "outputs": [],
   "source": [
    "X = df2['X'].values\n",
    "Y = df2['Y'].values\n",
    "Z = df.values[:,4]\n",
    "\n"
   ]
  },
  {
   "cell_type": "code",
   "execution_count": 54,
   "id": "8d6529f5-1343-4060-ae87-1bb6f4af056f",
   "metadata": {},
   "outputs": [
    {
     "data": {
      "image/png": "[encoded data removed]",
      "text/plain": [
       "<Figure size 2000x2000 with 2 Axes>"
      ]
     },
     "metadata": {},
     "output_type": "display_data"
    }
   ],
   "source": [
    "plt.figure(figsize=(20, 20))\n",
    "scatter = plt.scatter(X, Y, c=Z, cmap='viridis')\n",
    "plt.colorbar(scatter, label='Z Value')\n",
    "\n",
    "plt.xlabel('X')\n",
    "plt.ylabel('Y')\n",
    "plt.title('Scatter Plot with day of week Values as Colors')\n",
    "plt.show()"
   ]
  },
  {
   "cell_type": "markdown",
   "id": "79b5d51c-32f5-4a8e-a4e9-e2af8216afca",
   "metadata": {},
   "source": [
    "From the raw data, we can see that crimes that happened on the early week day concentrated more on a particular area, whereas crimes that happened on the weekend happened all around the city. One reason of this might be because people are going out more all over the city on the weekend than during the week day where people mostly only go to work."
   ]
  },
  {
   "cell_type": "code",
   "execution_count": 55,
   "id": "9de9e7c7-4808-4d0a-8d63-17d2ec2d2154",
   "metadata": {},
   "outputs": [],
   "source": [
    "Z = df.values[:,6]"
   ]
  },
  {
   "cell_type": "code",
   "execution_count": 56,
   "id": "3cb30a45-3f2e-431e-9c89-88331778cc86",
   "metadata": {},
   "outputs": [
    {
     "data": {
      "image/png": "[encoded data removed]",
      "text/plain": [
       "<Figure size 2000x2000 with 2 Axes>"
      ]
     },
     "metadata": {},
     "output_type": "display_data"
    }
   ],
   "source": [
    "plt.figure(figsize=(20, 20))\n",
    "scatter = plt.scatter(X, Y, c=Z, cmap='viridis')\n",
    "plt.colorbar(scatter, label='Z Value')\n",
    "\n",
    "plt.xlabel('X')\n",
    "plt.ylabel('Y')\n",
    "plt.title('Scatter Plot with Z Values as Colors')\n",
    "plt.show()"
   ]
  },
  {
   "cell_type": "markdown",
   "id": "3dea6e84-f4f9-43b3-a525-dee4549dd747",
   "metadata": {},
   "source": [
    "From this scatter plot, we can see that most of the crimes that happened all over the city involved 2 victims or less. Crimes that involved 3 people or more concentrated more on the upper right. There could be various reasons that can be drawn out from this data. One reason might be because those area might be more crowded or popular than other area. Another reason might also be because those area is not enforced very well by law enforcement. However, with just this data, we cannot make a direct conclusion that these reasons might be the case. More information is needed to draw a better and more precise reason of why this might be the case."
   ]
  }
 ],
 "metadata": {
  "kernelspec": {
   "display_name": "Python 3 (ipykernel)",
   "language": "python",
   "name": "python3"
  },
  "language_info": {
   "codemirror_mode": {
    "name": "ipython",
    "version": 3
   },
   "file_extension": ".py",
   "mimetype": "text/x-python",
   "name": "python",
   "nbconvert_exporter": "python",
   "pygments_lexer": "ipython3",
   "version": "3.11.4"
  }
 },
 "nbformat": 4,
 "nbformat_minor": 5
}
